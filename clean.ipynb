{
 "cells": [
  {
   "cell_type": "code",
   "execution_count": 562,
   "metadata": {},
   "outputs": [],
   "source": [
    "import pandas as pd\n",
    "import seaborn as sns\n",
    "import matplotlib.pyplot as plt\n",
    "import numpy as np\n",
    "import re\n",
    "import datetime"
   ]
  },
  {
   "cell_type": "code",
   "execution_count": 563,
   "metadata": {},
   "outputs": [
    {
     "data": {
      "text/html": [
       "<div>\n",
       "<style scoped>\n",
       "    .dataframe tbody tr th:only-of-type {\n",
       "        vertical-align: middle;\n",
       "    }\n",
       "\n",
       "    .dataframe tbody tr th {\n",
       "        vertical-align: top;\n",
       "    }\n",
       "\n",
       "    .dataframe thead th {\n",
       "        text-align: right;\n",
       "    }\n",
       "</style>\n",
       "<table border=\"1\" class=\"dataframe\">\n",
       "  <thead>\n",
       "    <tr style=\"text-align: right;\">\n",
       "      <th></th>\n",
       "      <th>Case Number</th>\n",
       "      <th>Date</th>\n",
       "      <th>Year</th>\n",
       "      <th>Type</th>\n",
       "      <th>Country</th>\n",
       "      <th>Area</th>\n",
       "      <th>Location</th>\n",
       "      <th>Activity</th>\n",
       "      <th>Name</th>\n",
       "      <th>Sex</th>\n",
       "      <th>...</th>\n",
       "      <th>Species</th>\n",
       "      <th>Investigator or Source</th>\n",
       "      <th>pdf</th>\n",
       "      <th>href formula</th>\n",
       "      <th>href</th>\n",
       "      <th>Case Number.1</th>\n",
       "      <th>Case Number.2</th>\n",
       "      <th>original order</th>\n",
       "      <th>Unnamed: 22</th>\n",
       "      <th>Unnamed: 23</th>\n",
       "    </tr>\n",
       "  </thead>\n",
       "  <tbody>\n",
       "    <tr>\n",
       "      <th>0</th>\n",
       "      <td>2018.06.25</td>\n",
       "      <td>25-Jun-2018</td>\n",
       "      <td>2018.0</td>\n",
       "      <td>Boating</td>\n",
       "      <td>USA</td>\n",
       "      <td>California</td>\n",
       "      <td>Oceanside, San Diego County</td>\n",
       "      <td>Paddling</td>\n",
       "      <td>Julie Wolfe</td>\n",
       "      <td>F</td>\n",
       "      <td>...</td>\n",
       "      <td>White shark</td>\n",
       "      <td>R. Collier, GSAF</td>\n",
       "      <td>2018.06.25-Wolfe.pdf</td>\n",
       "      <td>http://sharkattackfile.net/spreadsheets/pdf_di...</td>\n",
       "      <td>http://sharkattackfile.net/spreadsheets/pdf_di...</td>\n",
       "      <td>2018.06.25</td>\n",
       "      <td>2018.06.25</td>\n",
       "      <td>6303.0</td>\n",
       "      <td>NaN</td>\n",
       "      <td>NaN</td>\n",
       "    </tr>\n",
       "    <tr>\n",
       "      <th>1</th>\n",
       "      <td>2018.06.18</td>\n",
       "      <td>18-Jun-2018</td>\n",
       "      <td>2018.0</td>\n",
       "      <td>Unprovoked</td>\n",
       "      <td>USA</td>\n",
       "      <td>Georgia</td>\n",
       "      <td>St. Simon Island, Glynn County</td>\n",
       "      <td>Standing</td>\n",
       "      <td>Adyson�McNeely</td>\n",
       "      <td>F</td>\n",
       "      <td>...</td>\n",
       "      <td>NaN</td>\n",
       "      <td>K.McMurray, TrackingSharks.com</td>\n",
       "      <td>2018.06.18-McNeely.pdf</td>\n",
       "      <td>http://sharkattackfile.net/spreadsheets/pdf_di...</td>\n",
       "      <td>http://sharkattackfile.net/spreadsheets/pdf_di...</td>\n",
       "      <td>2018.06.18</td>\n",
       "      <td>2018.06.18</td>\n",
       "      <td>6302.0</td>\n",
       "      <td>NaN</td>\n",
       "      <td>NaN</td>\n",
       "    </tr>\n",
       "    <tr>\n",
       "      <th>2</th>\n",
       "      <td>2018.06.09</td>\n",
       "      <td>09-Jun-2018</td>\n",
       "      <td>2018.0</td>\n",
       "      <td>Invalid</td>\n",
       "      <td>USA</td>\n",
       "      <td>Hawaii</td>\n",
       "      <td>Habush, Oahu</td>\n",
       "      <td>Surfing</td>\n",
       "      <td>John Denges</td>\n",
       "      <td>M</td>\n",
       "      <td>...</td>\n",
       "      <td>NaN</td>\n",
       "      <td>K.McMurray, TrackingSharks.com</td>\n",
       "      <td>2018.06.09-Denges.pdf</td>\n",
       "      <td>http://sharkattackfile.net/spreadsheets/pdf_di...</td>\n",
       "      <td>http://sharkattackfile.net/spreadsheets/pdf_di...</td>\n",
       "      <td>2018.06.09</td>\n",
       "      <td>2018.06.09</td>\n",
       "      <td>6301.0</td>\n",
       "      <td>NaN</td>\n",
       "      <td>NaN</td>\n",
       "    </tr>\n",
       "  </tbody>\n",
       "</table>\n",
       "<p>3 rows × 24 columns</p>\n",
       "</div>"
      ],
      "text/plain": [
       "  Case Number         Date    Year        Type Country        Area  \\\n",
       "0  2018.06.25  25-Jun-2018  2018.0     Boating     USA  California   \n",
       "1  2018.06.18  18-Jun-2018  2018.0  Unprovoked     USA     Georgia   \n",
       "2  2018.06.09  09-Jun-2018  2018.0     Invalid     USA      Hawaii   \n",
       "\n",
       "                         Location  Activity             Name Sex   ...  \\\n",
       "0     Oceanside, San Diego County  Paddling      Julie Wolfe    F  ...   \n",
       "1  St. Simon Island, Glynn County  Standing  Adyson�McNeely     F  ...   \n",
       "2                    Habush, Oahu   Surfing      John Denges    M  ...   \n",
       "\n",
       "      Species           Investigator or Source                     pdf  \\\n",
       "0  White shark                R. Collier, GSAF    2018.06.25-Wolfe.pdf   \n",
       "1          NaN  K.McMurray, TrackingSharks.com  2018.06.18-McNeely.pdf   \n",
       "2          NaN  K.McMurray, TrackingSharks.com   2018.06.09-Denges.pdf   \n",
       "\n",
       "                                        href formula  \\\n",
       "0  http://sharkattackfile.net/spreadsheets/pdf_di...   \n",
       "1  http://sharkattackfile.net/spreadsheets/pdf_di...   \n",
       "2  http://sharkattackfile.net/spreadsheets/pdf_di...   \n",
       "\n",
       "                                                href Case Number.1  \\\n",
       "0  http://sharkattackfile.net/spreadsheets/pdf_di...    2018.06.25   \n",
       "1  http://sharkattackfile.net/spreadsheets/pdf_di...    2018.06.18   \n",
       "2  http://sharkattackfile.net/spreadsheets/pdf_di...    2018.06.09   \n",
       "\n",
       "  Case Number.2 original order Unnamed: 22 Unnamed: 23  \n",
       "0    2018.06.25         6303.0         NaN         NaN  \n",
       "1    2018.06.18         6302.0         NaN         NaN  \n",
       "2    2018.06.09         6301.0         NaN         NaN  \n",
       "\n",
       "[3 rows x 24 columns]"
      ]
     },
     "execution_count": 563,
     "metadata": {},
     "output_type": "execute_result"
    }
   ],
   "source": [
    "df = pd.read_csv(\"attacks.csv\", engine=\"python\")\n",
    "df.head(3)"
   ]
  },
  {
   "cell_type": "code",
   "execution_count": 564,
   "metadata": {},
   "outputs": [
    {
     "name": "stdout",
     "output_type": "stream",
     "text": [
      "<class 'pandas.core.frame.DataFrame'>\n",
      "RangeIndex: 25723 entries, 0 to 25722\n",
      "Data columns (total 24 columns):\n",
      " #   Column                  Non-Null Count  Dtype  \n",
      "---  ------                  --------------  -----  \n",
      " 0   Case Number             8702 non-null   object \n",
      " 1   Date                    6302 non-null   object \n",
      " 2   Year                    6300 non-null   float64\n",
      " 3   Type                    6298 non-null   object \n",
      " 4   Country                 6252 non-null   object \n",
      " 5   Area                    5847 non-null   object \n",
      " 6   Location                5762 non-null   object \n",
      " 7   Activity                5758 non-null   object \n",
      " 8   Name                    6092 non-null   object \n",
      " 9   Sex                     5737 non-null   object \n",
      " 10  Age                     3471 non-null   object \n",
      " 11  Injury                  6274 non-null   object \n",
      " 12  Fatal (Y/N)             5763 non-null   object \n",
      " 13  Time                    2948 non-null   object \n",
      " 14  Species                 3464 non-null   object \n",
      " 15  Investigator or Source  6285 non-null   object \n",
      " 16  pdf                     6302 non-null   object \n",
      " 17  href formula            6301 non-null   object \n",
      " 18  href                    6302 non-null   object \n",
      " 19  Case Number.1           6302 non-null   object \n",
      " 20  Case Number.2           6302 non-null   object \n",
      " 21  original order          6309 non-null   float64\n",
      " 22  Unnamed: 22             1 non-null      object \n",
      " 23  Unnamed: 23             2 non-null      object \n",
      "dtypes: float64(2), object(22)\n",
      "memory usage: 4.7+ MB\n"
     ]
    }
   ],
   "source": [
    "df.info()"
   ]
  },
  {
   "cell_type": "markdown",
   "metadata": {},
   "source": [
    "I check column by column with 'df[\"column\"]' and 'df[\"column\"].value_counts()' so that I can observe if the info is useful and if there are repeated categories or mixed formats. Results:\n",
    "\n",
    "- All the columns have NaN values.\n",
    "- Case Number: Probably unusefull. \n",
    "- Date: Mixed format.\n",
    "- Year: Mixed format and wrong data.                  \n",
    "- Type: Repeated categories with different names.                   \n",
    "- Activity: Repeated categories with different names. \n",
    "- Name: Mixed data with sex. Not relevant.  I will ignore this column.  \n",
    "- Sex: the index has a space on the right. A few repeated category because of the format. Missing values  I will ignore this column.\n",
    "- Age: mixed format. Wrong data. Missing data. I will ignore this column.\n",
    "- Fatal (Y/N): mixed format. Wrong data. \n",
    "- Time: mixed format.\n",
    "- Species: the index has a space on the right. Repeated categories with different names.\n",
    "- Investigator or Source: probably unusefull. \n",
    "- pdf:  probably unusefull. \n",
    "- href formula: Only usefull to get missing data.\n",
    "- href: Only usefull to get missing data.\n",
    "- Case Number.1: Probably unusefull.\n",
    "- Case Number.2: Probably unusefull.\n",
    "- original order: Probably unusefull.\n",
    "- Unnamed: 22: Probably unusefull.\n",
    "- Unnamed: 23: Probably unusefull.\n",
    "\n"
   ]
  },
  {
   "cell_type": "code",
   "execution_count": 565,
   "metadata": {},
   "outputs": [],
   "source": [
    "df_clean = df.copy() # I make a copy, the clean one.\n",
    "\n",
    "# I create list comprehension of the columns I don't need to drop it:\n",
    "column_names = df_clean.columns\n",
    "columns_unuseful = [column_names[i] for i in [0,8,9,10,15,16,17,18,19,20,21,22,23]]\n",
    "\n",
    "df_clean.drop(columns_unuseful, inplace=True, axis=1)"
   ]
  },
  {
   "cell_type": "code",
   "execution_count": 566,
   "metadata": {},
   "outputs": [],
   "source": [
    "#Now I make the column names upper case.\n",
    "df_clean.columns = df_clean.columns.str.upper()"
   ]
  },
  {
   "cell_type": "code",
   "execution_count": 567,
   "metadata": {},
   "outputs": [
    {
     "name": "stdout",
     "output_type": "stream",
     "text": [
      "<class 'pandas.core.frame.DataFrame'>\n",
      "RangeIndex: 25723 entries, 0 to 25722\n",
      "Data columns (total 11 columns):\n",
      " #   Column       Non-Null Count  Dtype  \n",
      "---  ------       --------------  -----  \n",
      " 0   DATE         6302 non-null   object \n",
      " 1   YEAR         6300 non-null   float64\n",
      " 2   TYPE         6298 non-null   object \n",
      " 3   COUNTRY      6252 non-null   object \n",
      " 4   AREA         5847 non-null   object \n",
      " 5   LOCATION     5762 non-null   object \n",
      " 6   ACTIVITY     5758 non-null   object \n",
      " 7   INJURY       6274 non-null   object \n",
      " 8   FATAL (Y/N)  5763 non-null   object \n",
      " 9   TIME         2948 non-null   object \n",
      " 10  SPECIES      3464 non-null   object \n",
      "dtypes: float64(1), object(10)\n",
      "memory usage: 2.2+ MB\n"
     ]
    }
   ],
   "source": [
    "df_clean.info()"
   ]
  },
  {
   "cell_type": "code",
   "execution_count": 568,
   "metadata": {},
   "outputs": [
    {
     "data": {
      "text/plain": [
       "DATE           19421\n",
       "YEAR           19423\n",
       "TYPE           19425\n",
       "COUNTRY        19471\n",
       "AREA           19876\n",
       "LOCATION       19961\n",
       "ACTIVITY       19965\n",
       "INJURY         19449\n",
       "FATAL (Y/N)    19960\n",
       "TIME           22775\n",
       "SPECIES        22259\n",
       "dtype: int64"
      ]
     },
     "execution_count": 568,
     "metadata": {},
     "output_type": "execute_result"
    }
   ],
   "source": [
    "# I get the sume of the NaN in my dataframe:\n",
    "df_clean.isna().sum()"
   ]
  },
  {
   "cell_type": "code",
   "execution_count": 569,
   "metadata": {},
   "outputs": [
    {
     "data": {
      "text/plain": [
       "DATE              0\n",
       "YEAR              2\n",
       "TYPE              4\n",
       "COUNTRY          50\n",
       "AREA            455\n",
       "LOCATION        540\n",
       "ACTIVITY        544\n",
       "INJURY           28\n",
       "FATAL (Y/N)     539\n",
       "TIME           3354\n",
       "SPECIES        2838\n",
       "dtype: int64"
      ]
     },
     "execution_count": 569,
     "metadata": {},
     "output_type": "execute_result"
    }
   ],
   "source": [
    "#Then I drop NaN values keeping only the rows with at least 2 non-NA values:\n",
    "df_clean = df_clean.dropna(thresh=2)\n",
    "df_clean.isna().sum()"
   ]
  },
  {
   "cell_type": "markdown",
   "metadata": {},
   "source": [
    "## YEAR"
   ]
  },
  {
   "cell_type": "code",
   "execution_count": 570,
   "metadata": {},
   "outputs": [
    {
     "data": {
      "text/plain": [
       "0       2018.0\n",
       "1       2018.0\n",
       "2       2018.0\n",
       "3       2018.0\n",
       "4       2018.0\n",
       "         ...  \n",
       "6297       0.0\n",
       "6298       0.0\n",
       "6299       0.0\n",
       "6300       0.0\n",
       "6301       0.0\n",
       "Name: YEAR, Length: 6302, dtype: float64"
      ]
     },
     "execution_count": 570,
     "metadata": {},
     "output_type": "execute_result"
    }
   ],
   "source": [
    "df_clean[\"YEAR\"]"
   ]
  },
  {
   "cell_type": "code",
   "execution_count": 571,
   "metadata": {},
   "outputs": [
    {
     "data": {
      "text/html": [
       "<div>\n",
       "<style scoped>\n",
       "    .dataframe tbody tr th:only-of-type {\n",
       "        vertical-align: middle;\n",
       "    }\n",
       "\n",
       "    .dataframe tbody tr th {\n",
       "        vertical-align: top;\n",
       "    }\n",
       "\n",
       "    .dataframe thead th {\n",
       "        text-align: right;\n",
       "    }\n",
       "</style>\n",
       "<table border=\"1\" class=\"dataframe\">\n",
       "  <thead>\n",
       "    <tr style=\"text-align: right;\">\n",
       "      <th></th>\n",
       "      <th>DATE</th>\n",
       "      <th>YEAR</th>\n",
       "      <th>TYPE</th>\n",
       "      <th>COUNTRY</th>\n",
       "      <th>AREA</th>\n",
       "      <th>LOCATION</th>\n",
       "      <th>ACTIVITY</th>\n",
       "      <th>INJURY</th>\n",
       "      <th>FATAL (Y/N)</th>\n",
       "      <th>TIME</th>\n",
       "      <th>SPECIES</th>\n",
       "    </tr>\n",
       "  </thead>\n",
       "  <tbody>\n",
       "    <tr>\n",
       "      <th>6177</th>\n",
       "      <td>Ca. 214 B.C.</td>\n",
       "      <td>0.0</td>\n",
       "      <td>Unprovoked</td>\n",
       "      <td>NaN</td>\n",
       "      <td>Ionian Sea</td>\n",
       "      <td>NaN</td>\n",
       "      <td>Ascending from a dive</td>\n",
       "      <td>FATAL, shark/s bit him in two</td>\n",
       "      <td>Y</td>\n",
       "      <td>NaN</td>\n",
       "      <td>NaN</td>\n",
       "    </tr>\n",
       "    <tr>\n",
       "      <th>6178</th>\n",
       "      <td>Ca. 336.B.C..</td>\n",
       "      <td>0.0</td>\n",
       "      <td>Unprovoked</td>\n",
       "      <td>GREECE</td>\n",
       "      <td>Piraeus</td>\n",
       "      <td>In the haven of Cantharus</td>\n",
       "      <td>Washing his pig in preparation for a religious...</td>\n",
       "      <td>FATAL, shark \"bit off all lower parts of him u...</td>\n",
       "      <td>Y</td>\n",
       "      <td>NaN</td>\n",
       "      <td>NaN</td>\n",
       "    </tr>\n",
       "    <tr>\n",
       "      <th>6179</th>\n",
       "      <td>493 B.C.</td>\n",
       "      <td>0.0</td>\n",
       "      <td>Sea Disaster</td>\n",
       "      <td>GREECE</td>\n",
       "      <td>Off Thessaly</td>\n",
       "      <td>NaN</td>\n",
       "      <td>Shipwrecked Persian Fleet</td>\n",
       "      <td>Herodotus tells of sharks attacking men in the...</td>\n",
       "      <td>Y</td>\n",
       "      <td>NaN</td>\n",
       "      <td>NaN</td>\n",
       "    </tr>\n",
       "  </tbody>\n",
       "</table>\n",
       "</div>"
      ],
      "text/plain": [
       "               DATE  YEAR          TYPE COUNTRY          AREA  \\\n",
       "6177   Ca. 214 B.C.   0.0    Unprovoked     NaN    Ionian Sea   \n",
       "6178  Ca. 336.B.C..   0.0    Unprovoked  GREECE       Piraeus   \n",
       "6179       493 B.C.   0.0  Sea Disaster  GREECE  Off Thessaly   \n",
       "\n",
       "                       LOCATION  \\\n",
       "6177                        NaN   \n",
       "6178  In the haven of Cantharus   \n",
       "6179                        NaN   \n",
       "\n",
       "                                               ACTIVITY  \\\n",
       "6177                              Ascending from a dive   \n",
       "6178  Washing his pig in preparation for a religious...   \n",
       "6179                          Shipwrecked Persian Fleet   \n",
       "\n",
       "                                                 INJURY FATAL (Y/N) TIME  \\\n",
       "6177                      FATAL, shark/s bit him in two           Y  NaN   \n",
       "6178  FATAL, shark \"bit off all lower parts of him u...           Y  NaN   \n",
       "6179  Herodotus tells of sharks attacking men in the...           Y  NaN   \n",
       "\n",
       "     SPECIES   \n",
       "6177      NaN  \n",
       "6178      NaN  \n",
       "6179      NaN  "
      ]
     },
     "execution_count": 571,
     "metadata": {},
     "output_type": "execute_result"
    }
   ],
   "source": [
    "df_clean[df_clean[\"YEAR\"] == 0.0].head(3)\n",
    "# We can leave out these 125 cases as they are not really significant, they are too old with a lot of missing date."
   ]
  },
  {
   "cell_type": "code",
   "execution_count": 572,
   "metadata": {},
   "outputs": [
    {
     "data": {
      "text/html": [
       "<div>\n",
       "<style scoped>\n",
       "    .dataframe tbody tr th:only-of-type {\n",
       "        vertical-align: middle;\n",
       "    }\n",
       "\n",
       "    .dataframe tbody tr th {\n",
       "        vertical-align: top;\n",
       "    }\n",
       "\n",
       "    .dataframe thead th {\n",
       "        text-align: right;\n",
       "    }\n",
       "</style>\n",
       "<table border=\"1\" class=\"dataframe\">\n",
       "  <thead>\n",
       "    <tr style=\"text-align: right;\">\n",
       "      <th></th>\n",
       "      <th>DATE</th>\n",
       "      <th>YEAR</th>\n",
       "      <th>TYPE</th>\n",
       "      <th>COUNTRY</th>\n",
       "      <th>AREA</th>\n",
       "      <th>LOCATION</th>\n",
       "      <th>ACTIVITY</th>\n",
       "      <th>INJURY</th>\n",
       "      <th>FATAL (Y/N)</th>\n",
       "      <th>TIME</th>\n",
       "      <th>SPECIES</th>\n",
       "    </tr>\n",
       "  </thead>\n",
       "  <tbody>\n",
       "    <tr>\n",
       "      <th>0</th>\n",
       "      <td>25-Jun-2018</td>\n",
       "      <td>2018.0</td>\n",
       "      <td>Boating</td>\n",
       "      <td>USA</td>\n",
       "      <td>California</td>\n",
       "      <td>Oceanside, San Diego County</td>\n",
       "      <td>Paddling</td>\n",
       "      <td>No injury to occupant, outrigger canoe and pad...</td>\n",
       "      <td>N</td>\n",
       "      <td>18h00</td>\n",
       "      <td>White shark</td>\n",
       "    </tr>\n",
       "    <tr>\n",
       "      <th>1</th>\n",
       "      <td>18-Jun-2018</td>\n",
       "      <td>2018.0</td>\n",
       "      <td>Unprovoked</td>\n",
       "      <td>USA</td>\n",
       "      <td>Georgia</td>\n",
       "      <td>St. Simon Island, Glynn County</td>\n",
       "      <td>Standing</td>\n",
       "      <td>Minor injury to left thigh</td>\n",
       "      <td>N</td>\n",
       "      <td>14h00  -15h00</td>\n",
       "      <td>NaN</td>\n",
       "    </tr>\n",
       "    <tr>\n",
       "      <th>2</th>\n",
       "      <td>09-Jun-2018</td>\n",
       "      <td>2018.0</td>\n",
       "      <td>Invalid</td>\n",
       "      <td>USA</td>\n",
       "      <td>Hawaii</td>\n",
       "      <td>Habush, Oahu</td>\n",
       "      <td>Surfing</td>\n",
       "      <td>Injury to left lower leg from surfboard skeg</td>\n",
       "      <td>N</td>\n",
       "      <td>07h45</td>\n",
       "      <td>NaN</td>\n",
       "    </tr>\n",
       "  </tbody>\n",
       "</table>\n",
       "</div>"
      ],
      "text/plain": [
       "          DATE    YEAR        TYPE COUNTRY        AREA  \\\n",
       "0  25-Jun-2018  2018.0     Boating     USA  California   \n",
       "1  18-Jun-2018  2018.0  Unprovoked     USA     Georgia   \n",
       "2  09-Jun-2018  2018.0     Invalid     USA      Hawaii   \n",
       "\n",
       "                         LOCATION  ACTIVITY  \\\n",
       "0     Oceanside, San Diego County  Paddling   \n",
       "1  St. Simon Island, Glynn County  Standing   \n",
       "2                    Habush, Oahu   Surfing   \n",
       "\n",
       "                                              INJURY FATAL (Y/N)  \\\n",
       "0  No injury to occupant, outrigger canoe and pad...           N   \n",
       "1                         Minor injury to left thigh           N   \n",
       "2       Injury to left lower leg from surfboard skeg           N   \n",
       "\n",
       "            TIME     SPECIES   \n",
       "0          18h00  White shark  \n",
       "1  14h00  -15h00          NaN  \n",
       "2          07h45          NaN  "
      ]
     },
     "execution_count": 572,
     "metadata": {},
     "output_type": "execute_result"
    }
   ],
   "source": [
    "#After this evaluation I will keep only the relevant data which would be from 1950:\n",
    "df_clean = df_clean[df_clean[\"YEAR\"] >= 1950]\n",
    "df_clean.head(3)"
   ]
  },
  {
   "cell_type": "markdown",
   "metadata": {},
   "source": [
    "\n",
    "## DATE\n"
   ]
  },
  {
   "cell_type": "code",
   "execution_count": 573,
   "metadata": {
    "scrolled": true
   },
   "outputs": [
    {
     "data": {
      "text/plain": [
       "1957                            11\n",
       "1956                             8\n",
       "1950                             7\n",
       "1958                             7\n",
       "28-Jul-1995                      5\n",
       "                                ..\n",
       "30-Mar-1971                      1\n",
       "Mid Jul-1985 or mid Jul-1986     1\n",
       "12-Aug-2014                      1\n",
       "Reported      10-Dec-1994        1\n",
       "20-Mar-1967                      1\n",
       "Name: DATE, Length: 3817, dtype: int64"
      ]
     },
     "execution_count": 573,
     "metadata": {},
     "output_type": "execute_result"
    }
   ],
   "source": [
    "df_clean[\"DATE\"].value_counts()"
   ]
  },
  {
   "cell_type": "code",
   "execution_count": 575,
   "metadata": {
    "scrolled": false
   },
   "outputs": [],
   "source": [
    "#df['Date'].str.extract(r'^(\\d{4})', expand=False)\n",
    "#print(set(df_clean[\"DATE\"]))\n"
   ]
  },
  {
   "cell_type": "code",
   "execution_count": 576,
   "metadata": {},
   "outputs": [],
   "source": [
    "df_clean[\"DATE\"]=df_clean[\"DATE\"].str.strip(\"Reported\")\n",
    "df_clean[\"DATE\"]=df_clean[\"DATE\"].str.strip(\" Reported\")\n",
    "df_clean[\"DATE\"]=df_clean[\"DATE\"].str.strip(\".Reported\")\n",
    "df_clean[\"DATE\"]=df_clean[\"DATE\"].str.strip(\"Late 1600s Reported\")\n",
    "df_clean[\"DATE\"]=df_clean[\"DATE\"].str.strip('Reported to have happened  \"on the weekend\"')\n"
   ]
  },
  {
   "cell_type": "code",
   "execution_count": 620,
   "metadata": {},
   "outputs": [
    {
     "data": {
      "text/plain": [
       "'\\ndef date_clean():\\n    for i in x:\\n        try:\\n            i.split(\"-\")\\n        except\\n\\n\\ntype(df_clean[\"DATE\"])'"
      ]
     },
     "execution_count": 620,
     "metadata": {},
     "output_type": "execute_result"
    }
   ],
   "source": [
    "#df_clean[\"DATE_CLEAN\"]=datetime.datetime.strptime(df_clean[\"DATE\"],'%d-%b-%Y').strftime('%Y-%m-%d')\n",
    "#m = df % 3 == 0\n",
    "#df.where(m, -df)\n",
    "#df_clean[\"Months\"] = np.where(df_clean[\"Date\"].str.contains(x), y, df_clean[\"Date\"])\n",
    "\n",
    "\n",
    "\"\"\"\n",
    "def date_clean():\n",
    "    for i in x:\n",
    "        try:\n",
    "            i.split(\"-\")\n",
    "        except\n",
    "\n",
    "\n",
    "type(df_clean[\"DATE\"])\"\"\""
   ]
  },
  {
   "cell_type": "code",
   "execution_count": 640,
   "metadata": {},
   "outputs": [
    {
     "data": {
      "text/plain": [
       "'\\nfor df_clean[\"DATE\"] in df_clean:\\n    if df_clean[\"DATE\"].str.contains(\"-\"):\\n        df_clean[\"test\"].append(i.split(\"-\"))\\n\\nprint(df_clean)\\n'"
      ]
     },
     "execution_count": 640,
     "metadata": {},
     "output_type": "execute_result"
    }
   ],
   "source": [
    "\"\"\"\n",
    "for df_clean[\"DATE\"] in df_clean:\n",
    "    if df_clean[\"DATE\"].str.contains(\"-\"):\n",
    "        df_clean[\"test\"].append(i.split(\"-\"))\n",
    "\n",
    "print(df_clean)\n",
    "\"\"\""
   ]
  },
  {
   "cell_type": "code",
   "execution_count": 623,
   "metadata": {},
   "outputs": [
    {
     "name": "stdout",
     "output_type": "stream",
     "text": [
      "{'20-Mar-1967', '29-Jun-1982', '-Jan-2', '25-Jun-2018', '29-Oct-1989', '20-Jun-2002', '2-Dec-1968', '26-Apr-2004', '8-Mar-195', '9-Oct-2005', '7-Mar-2015', '24-Oct-2003', '4-Sep-1999', '21-Nov-1998', '8-Feb-1985', '25-Dec-1964', '4-Feb-1963', '28-Dec-1959', '9-Dec-195', '8-Apr-199', '-Nov-2013', '5-Jun-19', '31-Dec-1957', '28-Nov-199', '-Oct-1963', '20-Feb-1972', '29-Jun-1989', '9-Jul-1994', '7-Jan-2004', 'May 1955', '8-Aug-1972', '9-Feb-2', 'Sep-1998', '26-Dec-1963', '24-Apr-1992', 'Aug-19', '24-May-1995', '9-Jul-2015', '31-Jul-2', '28-Jul-1954', '9-Jan-2015', '28-Aug-2', '21-Aug-1995', '4-Feb 1993', '9-Aug-1989', '27-Jul-19', '21-Mar-2007', '-May-2', '3-Jul-2015', '29-May-1999', '9-Aug-2', '28-Apr-2008', 'Jun-1968', '23-Jul-199', '25-Dec-1968', '-Oct-2008', '25-Aug-1967', '28-Jun-1964', '4-Dec-2', '-Apr-2017', '31-May-2002', '-Aug-1999', '9-Feb-1993', 'Feb-198', '20-Aug-2008', '23-Sep-1955', '9-Dec-198', '25-Jan-1959', '27-Dec-1958', '99', '-Jul-2003', '24-May-195', '3-Sep-1987', '2-Jan-1994', '3-Apr-2017', '29-Aug-2009', '21-Jun-1962', 'Oct-1988', 'Jan-Jun-1962', '4-Jul-1975', 'Oct-1965', '20-Dec-19', '7-Jul-2013', '28-Mar-1992', '26-Jun-2012', '22-Apr-2004', '5-Aug-195', '5-Feb-2003', '20-Apr-2009', '3-Feb-1999', '-Jan-198', '9-Feb-1995', '22-Jan-2017', '2-Jun-1999', '-Sep-2012', '3-Jan-2013', '21-Oct-2015', 'Early Sep-2', '26-Jul-2017', '963', '30-Aug-1962', '20-Feb-2012', '7-Mar-1993', 'Jun-195', '29-Jun-19', '-Mar-1988', '23-Mar-197', '4-Jan-1963', '26-Jan-1963', 'Summer 198', '8-Oct-197', '4-Apr-2014', '-Oct-1992', '23-Nov-2013', 'Winter 1969', '5-Aug-2002', '-May-2012', '953', '20-Jun-2008', '23-May-2014', '25-Nov-197', '30-May-1998', '8-Dec-1995', 'Oct-197', '27-Jul-1952', 'Apr-1998', 'Oct-1958', '20-Apr-1974', 'Nov-1962', '3-Dec-2015', '4-Nov-19', 'Apr-1989', '8-Dec-2009', 'Apr-1978`', 'Jan-199', '4-Aug-1975', '4-May-1963', '3-May-2003', '7-Jul-1997', 'Jul-1967', '21-Jun-2', '22-Apr-1957', '998', '30-Oct-1993', '-Jul-2002', 'Jun-1965', '7-Nov-1988', '29-Jul-1999', '27-Jan-2012', '2-Sep-2', '7-Feb-1962', '31-Aug-2013', '8-Apr-2002', '9-Apr-1987', '30-Nov-198', '22-Jul-2009', '-Jun-199', '21-Oct-1984', '3-Jun-1987', '8-Dec-2003', '3-Jun-1989', '-Aug-2017', '22-Jul-2017', '21-Aug-1993', '25-Nov-2017', '28-Sep-2', '29-Jul-2', '28-Jun-2', '20-Dec-1987', '20-Jul-199', '27-Feb-2003', '-Feb-1967', '4-Oct-1972', '8-Feb-2015', '5-Aug-2017', '7-Jul-1955', '-Sep-197', '-Mar-2017', '4-May-1988', '20-Feb-2014', '5-Mar-2008', '23-Jul-2012', '26-Aug-2012', '9-Jun-2015', '2-Aug-1969', '2-Apr-1974', '-Jul-1998', '4-Feb-1988', '21-May-2002', '28-Aug-199', '31-Dec-198', 'Mar-199', '5-Apr-2014', '25-Oct-2', '30-Jul-2012', '24-Jun-19', '7-Nov-2015', '-Mar-1984', '30-Oct-2015', '2-Feb-1988', '22-Mar-2', '27-Sep-2005', '31-Aug-1995', '24-Jul-2009', '28-Oct-2015', '25-Dec-1972', '27-Aug-19', '-Aug-1962', '22-Jul-1984', '3-Dec-1953', '20-Jul-1969', '5-Jun-2012', '2-Sep-1953', '28-Jun-2012', '9-Jan-1958', '3-Mar-1977', '3-Jul-1952', '2-Jul-1977', '30-Jul-2008', 'Mar-1983', '29-Nov-2', '24-Mar-1979', '5-Jan-1955', '22-Oct-2005', '-Nov-2007', '3-Sep-2002', '8-Mar-1998', '8-May-2004', '27-Feb-2013', '23-Aug-19', '29-Mar-2013', '7-Sep-2', '26-Dec-19', '21-Jan-1964', '21-Mar-2015', '3-Nov-1964', '7-May-1959', '21-Sep-1994', '7-Sep-2008', '-Sep-1994', '2-Sep-1959', '9-Aug-2015', '5-Apr-2018', '-Feb-2003', '-Jan-2015', '5-Mar-1995', '24-Apr-19', '-Apr-1988', '5-Jul-1999', '5-Apr-2003', '5-Jun-1988', '-Dec-1985', '20-Jul-2002', '2-Jun-2008', '27-Sep-2002', '2-May-197', '9-Oct-2014', '-Mar-195', '7-Aug-2013', '2-Dec-1978', '8-Aug-2012', '5-Apr-1958', '8-Dec-1963', '5-Mar-1964', '22-Nov-2013', '-Mar-1967', '7-Jan-19', '2-Feb-1962', '5-Aug-1999', '24-Aug-2', '22-May-2002', '9-Oct-199', '-Feb-2008', '9-Sep-1999', '26-Jun-2', '7-Aug-1995', '-Sep-2004', '23-Jan-1992', '27-Apr-1959', '7-Feb-2', '3-Apr-2007', '20-Jun-2', '8-May-1995', '5-Aug-1983', '2-Jul-2004', '5-Jul-1954', '8-Jan-2009', '27-Aug-1995', '21-Nov-2005', '974', 'Sep-195', '-Jun-195', '8-May-1963', '-Aug-1968', '5-Dec-2009', '21-Dec-2', '2-Mar-2005', '-Dec-2', '25-Jul-1985', '27-Apr-2008', '7-Apr-19', 'Apr-1955', '26-Jul-2', '5-Jan-2004', '2-Apr-2015', '8-Feb-198', '8-Aug-2014', '4-Aug-2012', '2-Nov-2', '5-Sep-198', '26-Sep-2', '25-Apr-1975', '26-Jan-2009', '7-Nov-2', '27-Feb-1994', '-Oct-2007', '-Apr-1952', '21-Oct-1997', '3-Nov-1973', '8-Aug-2008', '25-Nov-2005', '23-Jun-1975', '26-Sep-2009', '26-Jul-198', '27-Jul-1978', '-Aug-195', '3-Apr-1995', '22-Jun-1983', 'May 1957', '26-Dec-199', '5-May-2', '27-Apr-2017', '5-Feb-2018', '3-Jan-198', '5-Sep-1968', '4-May-2004', '3-Dec-1994', '22-Jan-1967', '7-Jun-1997', '31-Mar-2012', '7-July-2012', '25-Aug-2', '9-Jan-2008', '5-Dec-2007', '30-Jan-2015', '31-Oct-2004', '5-Mar-2', '23-Jan-2015', '9-Mar-2009', '-Aug-2015', '30-Nov-1969', '28-Jul-1959', '7-Nov-1995', '-Jul-2008', '9-Aug-1995', '8-Oct-1994', '2-Sep-2005', '7-Jun-1999', '7-Aug-1967', '30-Dec-2017', '8-Apr-1979', '5-Oct-2002', '90Feb-2', '3-Jun-1984', '30-Jun-2', '28-Oct-2013', '20-Mar-2012', '3-Jan-2004', '4-Dec-198', 'June 1983', '7-Oct-2009', '-Jul-198', '3-Apr-1957', '-Apr-2002', '30-May-2', '26-Nov-197', '20-Sep-1953', '21-Nov-1965', '-May-2009', '-Jul-1999', '7-Feb-1982', '4-Jul-19', '-May-2008', '22-Jun-19', '23-Dec-2014', '7-Jun-2017', '22-Aug-198', 'Jul- to Sep-1959', 'December 2012', '-Dec-197', '29-Nov-1962', '3-Jun-1959', '22-Jun-197', '29-Jan-1982', '25-Sep-197', '28-Apr-1957', '28-Mar-2005', '22-Apr-2018', '27-Jul-2004', 'May 195', '26-Aug-2017', '3-Sep-1993', '5-Aug-1993', '-Sep-1989', '21-Jul-2012', '31-Dec-2003', '23-Aug-1974', 'Jan-197', '27-Oct-198', '2-Feb-1984', '2-Jan-1962', '3-Jun-2002', '8-Nov-1957', '22-Oct-195', 'Sep-197', '3-Dec-2013', '7-Dec-1952', '25-Feb-2012', '3-Oct-2002', '2-May-2012', '3-Mar-1985', '24-Sep-2012', '-Dec-195', '2-Jul-1958', '20-Sep-2004', '5-Jul-1952', '-Jul-1988', '9-May-2007', 'Early Jul-198', '24-Aug-1999', '22-Aug-1988', '5-Nov-2005', '-Apr-2018', '-Sep-1998', 'Aug-1993', '5-Sep-197', '-May-1988', 'Early 1965', '24-Nov-2008', '31-May-1994', '9-Sep-1982', 'Feb-1974', '-Jul-1968', '7-Jun-1964', '25-May-2009', '20-Jul-2014', '20-Oct-2014', '9-Apr-2012', '28-Oct-2009', '-May-1972', '28-Dec-2014', '-Aug-2002', '5-Apr-1987', '31-Aug-1958', '26-Apr-2', '9-Oct-2009', '28-May-2004', '8-Jul-2012', '22-Jan-19', '-Dec-2015', '3-Feb-2', '9-Jan-1994', '26-Sep-2015', '7-Aug-1992', '24-Jan-2015', '27-Jan-2008', '4-Nov-198', '4-Sep-1973', '7-Apr-2', '4-Aug-1993', 'Jan-1998', '3-Feb-195', '-Jun-197', '30-Jul-1975', '22-Sep-1962', '28-Sep-1985', '3-May-2018', '-Dec-199', '31-Jan-1994', '-Mar-1972', '20-Nov-2014', '3-Jul-1999', '30-Mar-1983', '27-Jul-2017', '5-Oct-1992', '21-Nov-1987', '20-Dec-2009', '5-Jun-1993', '3-Jun-2005', 'Fall 2008', '-Oct-1993', 'May-1952', '24-Sep-2', '3-Feb-1997', '24-Feb-1963', 'May 1982', '2-Apr-1989', '24-Dec-2', '5-Jan-1983', '26-Apr-2017', '4-Jun-2013', '5-Jan-19', '4-Jun-1959', '-May-2007', '7-Sep-2003', '21-Dec-1979', '23-Apr-1957', '4-Jul-1989', '27-Aug-1997', '26-Aug-1964', '7-Mar-19', '20-Oct-1999', '31-May-2012', '9-Dec-1994', '24-Jun-1994', '31-Jan-198', '3-Oct-199', '27-Jul-1997', '5-Jan-1993', '9-Apr-199', '3-Aug-198', '8-Jun-19', '25-Jun-1982', '982', '7-Jul-2009', '2-Jan-2009', '24-Jul-1957', '30-Sep-2007', 'Mar-1959', '-Aug-1959', '2014', 'Early Aug-2', 'Jun-1992', '9-Jun-1997', '3-Jan-1997', '4-Jan-1962', '4-Sep-2008', '2-Oct-2012', '-Mar-1979', '4-Mar-1999', '7-Feb-198', '9-Jun-1992', '8-Apr-1975', '25-Sep-1982', '20-Mar-19', '27-Sep-1964', '29-Sep-2013', '23-Jun-197', '3-Sep-1988', '5-May-198', '21-Nov-2', '-Apr-197', 'May 1979', '31-Dec-1977', '4-Sep-2013', '29-Apr-1968', 'Oct-195', '3-Sep-1953', '24-Oct-1957', '-Apr-1995', '9-Sep-2002', '3-Jan-197', '5-Sep-2', '-Jun-2008', '9-Sep-1995', '-Dec-2004', '4-Aug-2002', '-Mar-1992', '-Jan-1988', '2-Mar-19', '2-Jun-1997', '4-Aug-1959', '29-Oct-2007', '8-Sep-1985', '4-Jun-199', '3-Sep-2', '7-Oct-195', '27-Mar-2004', '8-Oct-2009', '5-Dec-197', '9-Jun-2', '25-Nov-1994', '3-Nov-2009', '29-Jan-2', '7-Feb-1984', '5-Nov-1992', '2-Nov-1993', '29-Nov-1959', '-Apr-2013', '-Jun-1963', '27-Nov-197', '-Oct-1989', '-Oct-1962', '2-Aug-1998', '27-Jan-2009', '8-Feb-1954', '4-Jan-1998', '26-May-1995', '25-Feb-2017', '21-Mar-1974', '25-Oct-2005', '3-Jul-2005', '965', '2-Jun-1958', '-Nov-2002', '2-Sep-2017', '21-Apr-2003', '30-Mar-197', '26-Mar-2', '4-Jun-1995', '3-Aug-1995', '24-Jul-2', '9-Jul-2007.b', '3-Mar-199', '-Jul-1982', '8-Jul-199', '4-Jun-2005', '29-Mar-2004', '2-Sep-2014', '26-May-1954', '955', '24-Jun-1995', '8-Nov-2009', 'Summer of 1959', '4-May-2013', '31-Dec-19', '2-Jul-1959', '8-Jul-1992', '27-Jun-1954', '7-Apr-1957', '21-Sep-2003', '-Jun-1977', '8-Apr-2003', '25-Apr-1965', '21-Dec-1983', '7-Feb-2014', '5-May-2005', '29-Aug-1982', '2-Feb-198', '2-Jan-1995', 'Summer of 199', '8-Jul-2009', '9-Jan-199', 'Jun-1954', '5-Jun-1984', '26-Sep-1993', '30-Dec-1957', '2-Jul-1965', '5-Sep-2017', '2-Mar-2007', '27-Feb-1982', '21-Mar-1972', '-Oct-1954', '20-Oct-199', '22-Nov-1959', '30-Jun-2013', 'Mid Aug-19', '5-Jul-1975', '21-May-2', '21-Jan-195', '28-Mar-1964', '7-Jun-1995', '8-Mar-1992', '8-Dec-2', '2-Feb-19', '-Jan-1983', '7-Dec-1959', '22-Sep-1968', '4-Jan-199', '23-Aug-1998', '22-May-1992', '9-Nov-2012', '29-May-2015', '21-Jan-1962', '28-Mar-19', '30-Dec-2012', 'Dec-1962', '-Aug-2', '29-Aug-1969', '5-Aug-2013', '24-Aug-1984', '7-Jun-2008', '2-Jun-197', '28-Jul-1963', '20-Aug-1985', '21-Dec-1972', '31-Mar-19', '5-May-2014', '7-Jun-2005', '8-Oct-2013', '2-Jun-2', '3-Mar-2', '4-Feb-2018', '27-Mar-1993', '5-Sep-1985', '4-Jun-19', 'Jul-195', 'May-2007', '5-Aug-1979', '26-May-2008', '20-Jul-198', '25-May-2005', '9-Apr-1983', 'Mar-1979', 'Jun-1953', 'Apr-1952', '31-July-2009', '2-Dec-1974', '8-Nov-1964', '26-Jul-2008', '20-Apr-2003', 'Early Jul-1995', '26-Feb-1977', '8-Jun-2012', '28-Jan-1963', '5-Apr-1968', '7-May-2008', '3-Feb-1985', '5-Aug-2007', '3-Apr-199', '29-Jul-2009', '5-Nov-2004', '2-Apr-2009', '27-Feb-1954', '27-Jun-2014', '4-Oct-2', '22-Aug-2005', 'Aug-1995', '25-Jun-2014', '3-Sep-2003', '23-May-2012', '24-Feb-19', '25-Jan-1998', '2-Apr-2013', '9-Jun-1979', '30-Sep-2', '9-Aug-2003', '4-Nov-1984', '8-Mar-19', '4-Nov-1958', '-Nov-1995', '8-Jan-19', '23-Mar-1965', '984', '-Oct-2014', '23-Oct-1988', '7-Jun-1958', '25-Nov-1995', '4-Jul-1988', '21-Dec-1963', '8-Apr-2008', '3-Jan-2017', '-Dec-1972', '7-Jan-2015', '22-Nov-2', '5-Sep-2015', '7-Jun-2', '7-May-2002', '7-Apr-2005', '-Jun-19', '28-Jul-195', '26-Jun-2004', '30-Nov-1963', 'Jul-1963', '9-Jan-2007', '29-Nov-1992', '4-Feb-1992', '4-Jul-2009', '20-Sep-1967', '31-Jul-2004', '9-Oct-2', '4-Sep-1979', '4-Jan-2', '2-May-1995', '21-Aug-1968', '25-Oct-1987', '21-Jun-2009', '3-Oct-1968', '26-Jan-1962', '30-Nov-2012', '7-Apr-2009', '5-Oct-2', 'Sep-2', '28-Dec-1992', '8-Jul-1983', '8-Jan-1953', '20-Aug-1959', '26-Jun-1982', '23-Sep-195', '2-Jun-2004', '24-Oct-2', '30-Sep-2002', '9-Sep-1989', '-Jan-1978', '30-Sep-1984', '23-Dec-1957', '5-Nov-1959', '4-Jul-1954', '31-Mar-2015', '-Aug-2004', '25-Nov-1962', '25-Jul-1959', '8-Jan-1989', 'Apr-1954', '8-Mar-1959', '3-Dec-2003', '9-Oct-2013', '-Jan-1962', '29-Dec-1975', '26-Jun-1959', '29-Feb-2004', '8-Sep-2004', '3-Oct-2005', '4-Feb-1968', '30-Sep-1982', '7-Dec-2007', 'Jul-198', '-Aug-198', '21-Apr-2', '27-Jan-1962', '24-Dec-1952', '7-Aug-195', '-Jan-1997', '26-Feb-1968', '8-Sep-1992', '7-Dec-1983', 'May 1992', '9-Dec-1962', '29-Dec-2009', '8-Sep-1997', '28-Jan-1987', 'Aug-2', '-Mar-1983', '27-Jul-1968', '8-Jan-2015', '9-Jul-19', '21-Jan-19', '27-Jul-1969', '9-Apr-1958', '22-Jan-1964', '25-Apr-2015', '-Sep-1992', '29-Jan-2008', '4-Aug-19', '2-Jan-199', '9-Nov-2', '5-Sep-2009', '2-Jan 2', 'Sep-2003', '2-Nov-1963', '30-Mar-1987', '27-Jul-2008', '3-Apr-2015', '28-Aug-2008', '21-Apr-1977', '7-Mar-1994', '23-Aug-1999', '2-Aug-2014', '24-Nov-2017', '27-Sep-2007', '29-Jun-199', '-Aug-1978', '5-Aug-1978', '3-Aug-1989', '2-Feb-1989', '26-Feb-2', '27-May-2013', 'Aug-198', '21-Jun-2008', '3-Sep-1962', 'Jul-2008', '25-Apr-2008', '31-Aug-1977', '-Apr-2003', '-Sep-2014', '5-Nov-1999', '7-Mar-1977', '9-Dec-1959', '2-Apr-1955', '3-Apr-2012', '20-Mar-2007', '22-Jan-2', '20-Sep-2005', '26-Oct-1993', '950 - 195', '24-Jan-1995', '9-Jul-2017', '-Sep-2013', '7-Nov-2002', 'Dec-198', '28-Aug-2014', '2-Ap-2', '7-Sep-2007', 'Aug-1953', '5-Jun-2', '9-Nov-1975', '4-Sep-1982', '24-May-199', '28-Apr-199', '30-Aug-19', '5-Dec-1998', '21-Feb-1997', '25-Dec-2015', '22-Oct-2017', '9-Nov-199', '3-Dec-1959', '20-Dec-1963', '24-May-2018', '-May-1998', '2-Oct-2004', '-Jun-2002', '27-Jun-2', '-Feb-2013', '-Apr-2', '-Feb-2005', '3-May-1959', '20-Aug-2015', '25-Apr-2', '22-Sep-2007', '20-Jul-2', '9-May-195', '4-May-2007', '29-Apr-2015', '5-Jan-1957', '8-Oct-2', '29-Sep-2002', '25-Sep-2013', '2-Sep-2003', '28-Oct-199', '7-May-1952', '28-May-1972', '5-Sep-1999', 'Jan-1963', '30-Dec-1967', '7-Sep-1995', '7-Oct-198', '-May-2017', '-Dec-2005', 'Mar-1975', '25-May-1998', '7-Sep-1989', '2-Oct-1952', '31-Jul-2015', 'Mar-1973', '989', '20-Apr-2007', '9-Dec-2', '8-Nov-2017', '8-Mar-2017', '-Nov-1992', '23-Feb-2002', '3-May2014', '20-Jul-1974', '5-Jul-1955', '31-May-1983', '3-Oct-2014', 'Jun-1975', '4-Mar-1993', '23-Aug-1977', '-Feb-2002', '5-Jul-197', '22-Dec-1963', '29-Dec-2014', '7-Oct-2', '3-Sep-2014', 'Sep-1959', '9-Jul-1975', '25-Dec-2012', '22-Apr-198', '23-Jan-2009', 'Jun-1967', '26-Jul-2015', '30-Dec-1953', '2-Jul-1954', '28-Aug-19', '25-Mar-2002', '25-Jan-19', '4-Dec-1954', '3-Feb-1988', '7-Oct-2014', '-Mar-2013', 'Summer of 198', 'Dec-1977', '5-Jan-1988', '2-Jan-195', '8-Jan-2012', '4-Sep-2004', '5-Mar-2002', '-Dec-1955', '5-Apr-1994', '28-Sep-197', '8-Jul-198', '26-May-1997', '9-Nov-1959', '7-Feb-2008', '9-Jul-2002', '20-Oct-2013', 'Dec-1993', '9-Jan-19', '21-Oct-2017', '9-Sep-2015', '9-Jun-2017', '-Jun-2013', '7-Oct-2007', '5-Apr-1962', '20-Nov-1954', 'Apr-198', '20-Jul-2017', '-May-1987', 'Jan-1985', '2-Oct-2008', 'Sep-198', '-Oct-198', '30-Aug-1998', '-Jun-2009', 'Summer 1974', '-Aug-2013', '27-Nov-1979', '27-May-1988', '-Dec-198', '8-Nov-1984', '9-Feb-1975', '25-Oct-1962', 'May-2003', '25-Jul-1998', '9-Dec-1989', '2-Aug-2008', '7-Nov-2007', '22-Apr-1999', '3-Sep-197', 'Ca. 195', '9-Aug-1962', '28-Jul-1962', '-Mar-2004', '4-Oct-1959', '2-Jan-1963', 'Aug-1955', '5-Nov-1963', '29-Sep-2', '27-Nov-2005', '31-Oct-2', 'Aug-2014', '26-Jan-19', '9-Feb-1987', '4-Aug-2', '28-Feb-1997', '20-Feb-1983', '21-Oct-2008', 'Nov-1999', '24-Aug-2005', '8-Mar-2014', '7-May-198', '995', '20-Dec-2002', '26-Aug-199', '28-Jun-195', '22-Jun-2012', '3-Sep-2009', '31-May-1992', '2-Sep-1974', '5-Mar-1973', '22-Mar-1983', '8-Oct-2014', '23-Jul-1992', 'Nov-1993', '3-Oct-1982', 'Mar-1968', '-Sep-199', '8-Jan-1985', '31-May-2009', '2-Aug-2003', '2-Apr-19', '2-Feb-2', 'Mar-1993', '25-Oct-1964', '28-Feb-2', '-Oct-19', '27-Jul-1964', '-Nov-2014', '2-Jan-2003', '999', '4-Apr-19', '-Aug-1995', '26-Apr-2015', '28-Nov-195', '25-Dec-1963', '-Apr-1994', '25-Jan-2007', '22-Apr-19', '7-Apr-1962', '31-Dec-1955', '23-Nov-195', '22-Dec-1953', '25-Dec-1997', '20-Jun-1974', '7-May-195', '-Oct-1999', '4-Dec-1963', '2-Jan-2018', '4-Feb-1962', '9-Jul-197', '2-Jan-197', '3- Dec-1989', '3-Dec-197', '20-Feb-1968', '25-Jun-199', '25-Nov-2008', '24-Oct-2009', '20-Mar-2009', '24-Dec-1983', '-Jul-2014', '30-Aug-199', '5-Sep-2007', '3-Jun-1962', '2-Jan-1959', '7-Sep-1984', '3-Nov-1994', '4-Nov-1957', '-Oct-1988', '5-Jan-195', '20-Feb-1997', '5-Sep-2008', '29-Oct-1992', '9-Nov-198', 'Jul-19', '3-Dec-2009', '22-Aug-1964', '25-May-1987', '9-Aug-1969', '7-Apr-2004', '9-Jul-195', '21-Oct-2004', '29-Aug-19', '9-Apr-2007', '21-May-2018', '9-Mar-1969', '2017.06.05', '3-Sep-1963', '25-May-1969', '4-Apr-2018', '-Jun-2014', '3-May-2005', '28-Nov-2008', 'Aug-1963', '24-Feb-2018', '28-Feb-1959', '27-Jun-2009', '97', '4-Aug-1967', '26-Aug-1962', 'Sep-2014', '26-May-2007', '26-Mar-195', 'November 2', '7-May-1997', '5-Nov-1958', '3-Jun-197', '7-Jan-1968', '8-Jan-1992', '-Oct-2004', '21-Apr-2009', '-Jun-1995', '31-Aug-2012', '27-Dec-2008', '21-Jul-1992', '7-Nov-2013', '9-Nov-2014', '9-Apr-2008', '3-Apr-1989', '7-Jul-1988', '-Dec-1999', '4-Jan-2005', '3-Jan-1994', '27-Aug-1998', '26-Aug-1967', '20-Apr-1963', '2-Sep-19', '3-Oct-1983', '28-Sep-2008', '23-Feb-2', '2-Aug-199', '25-Jul-1983', '5-Sep-1984', '26-Aug-1955', '31-Jul-19', '23-Feb-1975', '8-Dec-1973', '21-Apr-19', '5-Jun-1989', '2-Mar-2009', '21-Jul-199', '2-Mar-1993', '31-May-2', '-Dec-1975', '20-Jun-2012', '26-Apr-1998', '7-Oct-2015', '9-May-198', '20-Aug-2007', '-Sep-1969', '30-Mar-1952', '2-Nov-1998', '25-Apr-2005', '7-Jul-1989', '4-Jul-1997', '25-Mar-1968', '26-Apr-2003', '26-Jul-1965', '9-Aug-1967', 'Aug-1964', '20-Apr-1997', '31-May-1997', '8-Sep-19', '9-Apr-1992', '23-Nov-2', '23-Jul-1988', '9-Dec-2015', '24-Sep-2015', '975', '26-Dec-1968', '-May-1957', 'Oct-2', '30-Jul-1954', '28-Oct-1995', '-Sep-1997', '9-Sep-1993', '27-Sep-198', '26-Dec-195', '-Oct-1955', '4-Nov-2012', '21-Jan-2017', '27-Jul-2015', 'Jul-1958', '2-Aug-1962', '21-Jun-1957', '24-Jul-1994', '-Aug-1997', '26-Jul-1999', '5-Nov-1997', '3-Feb-197', '26-Dec-1959', '27-Aug-2017', '-Jan-1964', '8-Mar-2009', '25-Apr-19', '30-Oct-199', '2-Jun-2017', '3-Jul-19', '-Apr-19', '973', '23-Jun-1964', '28-Feb-1978', '2-30-198', '-Feb-2018', '27-Mar-2017', '30-Jan-1954', '5-Jul-1953', '-Dec-2007', '4-Jan-1985', '5-Jan-2012', '8-May-1964', '25-Apr-199', '994', '25-Jul-2004', '27-Jul-1989', '962', '27-Mar-2009', '-Nov-1968', '4-Mar-1984', 'Sep-1992', '8-Jan-1962', '20-Jun-1983', '21-Oct-1975', '21-Dec-1967', '24-Jan-2017', '23-Nov-1978', 'Aug-1962', '22-Jun-2003', '-Oct-1968', '2-Jul-1987', '25-Apr-2018', '8-Jun-1998', '29-Aug-199', '29-Jul-2017', '28-Apr-2009', '29-Aug-2017', '27-Nov-19', '3-Oct-2015', '25-May-2015', '4-Jan-1984', '8-Jul-2015', '20-Apr-2008', '5-Apr-2008', '2-Oct-1954', '8-Aug-2013', '5-Jan-1962', '25-Apr-2003', '2-Dec-1989', '958-1959', '28-Nov-2002', '7-Apr-199', '4-Sep-1974', '9955', '9-Jul-1985', '9-Sep-1973', 'Nov-197', '5-Jun-197', '2-Sep-199', '5-Aug-2', '5-Sep-2005', '5-Apr-1975', '4-Feb-1977', '9-Oct-2017', '9-Feb-1989', '7-Jul-2', '7-Aug-2007', '31-Dec-1972', '21-Oct-1972', '-Aug--2', '8-Feb-1963', '21-Jan-2013', '3-Apr-2009', '29-Sep-1963', 'Nov-2003', '-Nov-2015', '3-Jul-1959', 'May 1965', '-Jul-2', '26-Jun-2008', '22-May-2004', '7-Jul-198', '26-Feb-2005', '21-May-19', '30-Jan-198', '24-Sep-2017', '5-Oct-1985', '9-May-19', '4-Jun-2009', '4-Jun-2015', '8-Mar-1999', '9-Apr-1959', '22-Jun-195', '-Feb-1964', '5-Jan-1959', '8-Jul-1958', '3-Dec-2014', '27-May-2005', '-Dec-1954', '7-Jul-195', '-Jul-1995', '29-Jun-1983', '22-Jul-2005', '29-Oct-2', '30-Aug-1955', '4-Jul-1958', '4-Jul-2013', '2-Oct-199', '5 May 1979', '20-Aug-1987', '4-Oct-2009', '9-Mar-2017', '-Mar-2009', '22-Jan-1963', '2-Oct-1959', '9-Sep-1984', '23-Jun-199', '7-May-2', 'Jan-1969', '4-Mar-1988', '3-Dec-1984', '3-Jan-2003', '7-Apr-2013', '-Mar-2', '30-Oct-2002', '-Sep-2015', '9-Jun-2012', '2-Jun-1964', '-May-19', '2-Feb-1959', '24-May-198', '20-Jan-2005', '9-Jul-1962', '9-Apr-2', '20-May-198', '2-Aug-197', '4-Jul-2003', '22-Oct-1988', '31-Dec-195', '957', '22-Nov-19', '28-Jan-2', '20-Jan-1997', '3-Sep-1955', '2-Nov-2005', '21-Dec-2015', '26-Jan-2', '7-Jun-1978', '9-Aug-2014', '4-Jan-2014', '31-Mar-2', '-Nov-2005', '9-Aug-198', '-Feb-2', '30-Oct-2004', '7-Jan-2007', 'Oct-198', '26-Jul-2002', '22-Dec-198', '25-Sep-2', '3-Aug-1998', '29-Jun-1954', '9-Jul-1978', '5-Feb-2008', '5-Oct-2014', '22-Jan-2004', '9-Aug-1993', '-Sep-1978', '4-Dec-2007', '5-Mar-2012', '25-Dec-2013', '21-Feb-2', '23-Sep-1984', '7-Sep-19', '3-May-2', '4-Feb-2007', '29-May-2004', '5-Aug-1987', '3-Feb-2005', 'Sep-2017', '5-Feb-1953', '29-Nov-2005', '21-Aug-2004', '20-Jan-1989', '25-Nov-195', '5-Jan-2', '9-Apr-2002', '8-Dec-2007', '22-Aug-2015', '21-Dec-2017', '27-Jun-2013', '28-Apr-2013', '5-Aug-1997', '27-Oct-2012', '-May-2004', '4-May-2003', '25-Aug-195', '-Jun-1989', '5-Jan-2017', 'Apr-197', '7-Nov-1958', '9-Jun-1965', '20-Dec-1957', '8-Jun-2018', '5-Oct-2003', '21-Jul-2007', '9-Jul-1953', '22-Dec-1998', '21-Jul-1987', '24-Nov-1973', '7-May-2015', '4-Dec-1962', 'Jan-1959', '24-Nov-2005-', '7-Jun-1992', '27-Dec-19', '9-Apr-1989', '29-Aug-2014', '2-Feb-1972', '7-Apr-1953', '4-Aug-1952', '23-Jun-2015', '8-Oct-2008', '22-Aug-2007', '5-Jan-2018', '20-May2015', '-Jan-1999', '31-May-1995', '29-Dec-2002', '5-Apr-197', '-Aug-1989', '4-Sep-2', 'Jun-2', '31-Dec-2017', '28-May-199', '4-Sep-1955', '25-Mar-1962', '2-Jul-2017', '29-Aug-2003', '22-Mar-2004', '4-Nov-2002', '954 (same day as  1954.00.00.f)', '-Apr-199', '26-Aug-1998', '8-Mar-1975', '960-19', '7-Mar-1984', '4-Sep-1954', 'Summer-2008', '-Mar-1975', '22-Jun-2005', '8-Feb-1968', '27-Mar-2005', '23-Aug-1962', '4-Oct-195', '30-Aug-2009', '-Jan-2007', '29-Aug-1972', 'Jan-1992', '9-Feb-1994', '28-Nov-1959', '23-Jan-1965', '-Jul-1987', '9-Sep-1972', '3-Dec-198', '5-Jun-1958', '22-Oct-2', '23-Aug-2', '30-Jun-2003', '21-Sep-1954', '28-Apr-2', '2-Jul-2', '5-Feb-197', '7-Sep-197', '7-Jul-1995', '3-Jun-1995', 'Feb-2007', '21-Aug-2005', '26-Jun-1977', '-Jul-1958', '27-Feb-1959', '30-Oct-1999', '22-Oct-1992', '29-Dec-1959', '7-Sep-2009', '4-Sep-2015', '21-Oct-2005', '29-Dec-197', '8-May-2007', '29-May-1962', '27-Jan-1959', '23-Oct-2017', 'Mar-195', 'July 199', '992', '30-Jan-1994', '2-Nov-1992', '5-Oct-199', '4-Apr-2013', '9-Apr-195', '30-Jun-197', '28-Jan-1998', '25-Nov-1963', '20-Apr-198', '23-May-2008', '25-Jan-198', '24-May-2008', '2-Apr-1983', '5-Feb-1988', '25-May-1975', '27-Jul-199', '3-Nov-2017', '24-Nov-2009', '2-Jul-19', '20-Jul-1989', '8-Jun-2005', '4-Mar-195', 'Jan-2009', '2-Dec-2', '4-Jun-2004', '21-Apr-1998', '24-Dec-2005', '8-Jul-2', '4-Oct-2002', '9-Sep-197', '-Feb-19', 'Oct-1959', '4-Jul-199', '8-Sep-2', '-Dec-19', '8-Feb-195', '26-Dec-2003', '4-Mar-2012', '-Jul-2012', '20-Sep-2', '22-Oct-2014', '25-Apr-198', '5-May-1994', '23-May-198', '3-Sep-198', '3-Jan-2018', '-Sep-2008', '30-Nov-1999', '2-Jul-197', '4-Oct-1969', '20-Jul-1962', '27-Jun-2005', '983', '9-Jan-1975', '-Dec-2013', '-Mar-1985', '2-Feb-2009', '3-Jan-2015', '26-Aug-1995', '3-Jan-1989', '22-Sep-1963', '3-Sep-1992', '28-May-2017', '9-Jan-1974', 'Apr-19', '9-Jul-2012', 'Oct-199', '25-Jan-1997', '29-Nov-199', '21-Aug-2', '4-Sep-1993', '7-Nov-2014', '3-Jun-1982', '-Nov-199', '27-Jul-195', '21-Jul-197', '29-Mar-1975', '3-Jan-1974', '4-Jun-2017', '27-Sep-1978', '8-Feb-2003', '4-Oct-2015', '4-May-2005', '9-Apr-2003', '24-Nov-198', '23-Jan-1964', '5-Feb-1962', '22-Sep-1984', '-Jul-2017', '27-Oct-199', '24-Dec-1998', '95', '9-Aug-1997', '21-Jul-2', '21-Sep-2013', '9-Jul-1988', '29-Mar-2014', '-Oct-1965', '3-Mar-2014', '4-Dec-1999', '26-Feb-195', '4-Feb-1982', '9-May-199', '8-Jul-1994', '-Jan-1987', '7-Sep-2013', '5-Dec-2012', '3-Aug-1979', '23-Oct-2012', 'Early Feb-1974', '3-Jul-1954', '98', '23-May-2004', '7-Aug-198', '30-Apr-2002', '28-Jun-1998', '20-Aug-1983', '23-Jul-2017', '21-Jan-1967', '7-Feb-1964', '9-Jun-1993', '-Jan-195', '-Feb-2012', '9-Jan-197', '-Jan-199', '25-Jan-2014', '9-Jul-1982', '2-Jun-198', '-Sep-2002', 'Ca. 1965', '8-Jul-1964', '7-Oct-19', '-Aug-2009', '-Nov-1984', '3-Aug-1983', '21-Jan-1988', '-Jun-1993', '25-Jun-1962', '958', '25-Mar-1969', '26-Jun-2015', '4-Oct-1989', 'Apr-1958', '30-Mar-2', '24-Jul-1984', '27-Sep-19', '5-Jul-2014', '3-May-2015', '-Oct-2003', '27-Jan-2', '2-Jun-2012', '28-Dec-1997', '-Feb-1963', '26-Dec-2015', '24-Jul-2008', '-Oct-2002', 'Circa 1958', 'Dec-1953', '4-Apr-1973', '-Nov-1999', '5-Aug-1995', '29-May-2', '7-Jan-1974', '21-Nov-1993', '24-Jun-1964', '5-Nov-1985', '29-Sep-195', '21-Dec-2002', '2-Jan-19', '22-Oct-1985', '29-Mar-198', '23-Jul-1995', '2-Jul-2014', '23-Mar-2008', '-Feb-195', '29-Jul-19', '24-Jan-2009', '-Sep-1963', '27-Nov-2003', '3-Mar-1975', '25-Sep-2017', '26-Jul-1975.b', '7-Apr-2017', '23-May-1994', '2-Jun-1969', '3-Sep-1989', '5-Nov-1969', 'Early Nov-19', '7-Nov-198', '28-Jul-2', '24-Oct-1988', '27-Feb-1963', '9-Apr-1962', '2-May-2007', '-Aug-1958', '25-Aug-2013', '4-Jul-2007', '27-Oct-197', '30-Aug-2', '23-Feb-1999', '23-Jan-1993', '8-Jul-2008', '22-Jan-2012', '8-Sep-2007', '26-May-1974', '24-Oct-1985', '20-May-19', '5-Aug-1974', '4-Jan-1988', '4-Jul-1953', '2-Sep-1965', '22-Nov-1989', '29-Oct-1968', '21-Mar-2009', 'Feb-1995', '9-Dec-1965', '26-Jul-1953', 'Ca. 1955', '4-Aug-1997', '7-Jul-19', '-Jun-2005', '25-Aug-2007', '21-Aug-1992', '8-Nov-1988', '9-Aug-2005', '-Oct-1998', '5-Feb-199', '-Aug-2007', '27-Jan-1964', '27-Sep-1953', '20-Jan-2', 'Between 01-Aug-1951 & 08-Aug-195', '8-Jun-2', '-Nov-1985', '25-Dec-1973', '9-Jun-1999', '4-Nov-2017', '3-May-2017', '3-Aug-2', '4-Oct-1997', '-Jan-1963', '28-Oct-1962', '8-Feb-1953', '2-Sep-195', '29-Oct-2009', '3 -Nov-1999', '2-Jun-1995', '8-Sep-1953', '-Jan-1967', '-Dec-1994', '4-Dec-2008', '28-Jul-2004', '26-Aug-1979', '31-Aug-1962', 'Jul-2003', '21-Aug-1999', '30-Jul-2', '8-Dec-1998', '30-Oct-1977', '21-Apr-2013', '7-Jan-2003', '29-Jul-2013', '-Oct-1987', '23-Dec-1992', 'Sep-1973', '4-Oct-1988', '28-Feb-1987', '23-Jun-1955', '26-Jul-2003', '26-Sep-1959', '4-Apr-2', '5-Aug-1952', 'Feb-1977', '24-Aug-197', '-Nov-2', '-Feb-1975', '4-Jan-19', '9-Jul-2014', '23-Jan-2007', '-Feb-2004', '9-Jul-1989', '24-Sep-19', '22-Nov-2003', '30-May-2017', 'Feb-1964', '23-Jan-2004', '24-Jul-197', '26-Dec-2009', '27-Sep-1998', 'Feb-1994', '29-Apr-2017', '26-May-1985', '24-Oct-197', '3-Jan-1999', 'Ca. 1962', '27-Nov-2', 'Feb-1968', '7-Sep-1967', '31-Mar-2018', '24-Jun-2008', '2-Nov-1968', '3-Jan-2002', '5-Jul-2008', '23-Oct-2', '21-Jul-1999', '2004', '-Jun-1972', '-Dec-2002', '993', 'Aug-195', '2-Mar-2', '-Jan-2009', 'Mar-1955', '26-May-199', '2-Jul-1974', '-Sep-1973', '2-Sep-2013', '7-Feb-1969', '3-Sep-19', '8-Jun-2017', '5-Jul-2013', '24-Apr-2018', '5-Jul-2004', '2-May-2', '8-Feb-1993', '8-Feb-2', '3-Sep-2015', '9-Jan-2', '7-Jan-1952', '9-May-2015', '-Sep-2017', '21-Mar-2014', '9-Jul-2007.', '-Jul-2013', '21-Sep-2002', '29-Nov-2014', '30-Nov-2017', '9-Jan-2005', '-Aug-2014', '8-Oct-1998', '30-Dec-2008', '21-Mar-2', '25-Aug-1992', '21-Jan-2018', 'Sep-2015', '-Nov-1983', '25-Jul-2008', '9-Jun-2003', '25-Jul-1955', '988', '23-Apr-2018', '31-Mar-2004', 'Feb-1955', '25-Jun-2', '3-Feb-1974', '3-May-1979', '4-Nov-2', 'Mar-19', '28-May-1994', '30-Jul-199', '28-Sep-2007', '2-Feb-1957', '5-Jun-2007', '30-Jul-2013', '5-Feb-1955', '-Aug-19', '30-Oct-2009', 'Jun-1989', '22-Sep-1998', '25-Aug-1973', '30-Aug-1965', '3-Apr-1994', '2-Apr-2017', '9-Jan-1965', 'Mid Jul-1985 or mid Jul-198', '8-Apr-19', '5-Jul-1972', '22-Oct-1989', '27-Mar-2', '4-Feb-1955', '3-Jan-2', '5-Feb-1964', '2-Dec-1999', '27-Jul-1954', '-May-195', '9-Oct-19', '2-Jun-19', '5-Aug-2004', '7-May-1957', '23-Nov-197', '972', '28-Oct-2', '4-Sep-1983', '8-Jul-2007', '3 or 30-May-1967', '8-Dec-1994', '-Feb-198', '5-Jun-1983', '22-Aug-1995', '20-Apr-19', '28-Aug-1979', '5-Mar-199', '968', '2-Jan-198', '7-May-2003', '3-Nov-2015', '2-Jul-2013', '4-Jul-2012', '21-Feb-2017', '-Nov-2003', '30-Oct-2', '-Dec-2009', '8-Jan-2005', '3-Jun-2012', '27-Jan-1967', '4-Nov-1998', '7-Aug-2', '25-Oct-199', '22-Dec-1985', '24-Mar-195', '2-Oct-2014', '9-Feb-1992', '4-Feb-1975', '4-Jul-2017', '2-Jun-2007', '7-Dec-2', '4-Mar-2018', '7-Jun-1989', '7-Jan-1998', '\\n1951.12.15', '28-Oct-195', '-Nov-2008', '27-Jan-1958', '-Mar-1968', '29-Sep-2015', '20-Jul-195', '21-Oct-1978', '7-Sep-2015', '7-Aug-1985', '4-Mar-2007', '7-Oct-1994', '27-Jul-198', '5-Sep-2002', '-Nov-1962', '7-Sep-1964', '3-Apr-2014', '7-May-19', '-Jun-2017', '-May-2002', 'May-2', '7-Apr-1968', '-Jul-2009', 'Jul-1982', '28-Jul-1995', '4-Jan-1993', '4-Oct-1964', '-Mar-2012', '2-Jun-1975', '7-Jul-2005', '9-Oct-1994', '3-Mar-2013', '8-Sep-2015', '4-Nov-2007', 'Dec-2', '3-Aug-1968', '2-Jul-2015', '4-Jun-2012', '27-Jul-2005', '4-Feb-199', 'Nov-199', '25-Jan-2', '24-Jan-2', '5-Feb-2015', '4-Aug-1955', '21-Jun-1978', '-Mar-198', '3-Nov-1985', '21-Jul-195', '5-Nov-1998', '24-May-2014', '2-Mar-2013', '-Jan-1972', '20-Sep-2015', '7-Jul-2017', '2-Mar-1967', 'Fall 1993', '5-Nov-1964', '3-Jan-195', '24-Dec-1972', '5-Jul-1967', '22-May-2', '21-Dec-2005', '3-Jun-1973', '27-Jul-2', '8-Feb-2009', '2-May-1962', '9-Mar-1953', '27-Oct-2003', '2-Apr-1978', '22-Apr-2017', '-Oct-2012', '-Nov-1998', '26-Jul-1983', '3-Aug-19', '22-Apr-2007', '9-Jul-2004', '22-Aug-19', '952', '20-Aug-19', '3-Aug-2013', '28-Mar-198', '4-Jul-1999', '8-Jun-2003', '4-Nov-199', '9-Aug-199', '30-Jul-2004', '2-Sep-2009', '21-Jul-2014', '4-Mar-198', '8-Oct-2012', '4-Sep-2007', '5-Jul-2007', '23-Apr-2', '30-Aug-1959', '29-Jun-2', '2-Mar-197', '27-Sep-1982', '24-May-2015', '2-Dec-1958', '-Mar-1994', '30-Dec-1983', '3-Jun-2', '8-Feb-2018', '20-Jul-2003', '-Jun-2015', '7-Feb-199', '30-Dec-1994', '27-Jan-1988', '29-Aug-2004', '27-Feb-1973', '3-Jun-1967', '3-Apr-1958', '29-Dec-1954', '23-Aug-2017', '31-Aug-2', '9-Oct-198', '-Sep-2', '29-May-1998', '30-Nov-2013', '7-Jan-1955', '22-Sep-2005', '26-Feb-2004', '7-Feb-2009', '20-May 1975', '9-Jan-1973', '30-May-1959', '22-Dec-2009', '8-Sep-199', '7-Dec-1987', '5-Jul-1963', '25-Oct-19', '22-Jul-199', '9-May-2012', '5-Jun-2013', '2-Jan-1993', '-Apr-1998', '5-Oct-1962', '28-Apr-1988', '26-Jun-2003', '3-Feb-19', '5-Sep-199', '24-May-2', '29-Sep-1999', '7-Jan-1978', '9-Dec-1954', '26-Oct-2017', '20-Dec-2008', 'incident of 1994 in Hong Kong', '27-May-1979', '5-Apr-2017', '30-Dec-1962', '9-Mar-1955', 'Mar-1982', '22-Feb-2009', '26-Jul-199', '5-Apr-2004', 'Apr-1993', '2-Aug-2', '24-Mar-1962', '24-Apr-199', '8-May-199', '9-Aug-1975', '2-Aug-1954', '2-Nov-1979', '29-Jul-2007', '26-Aug-197', '-Mar-2015', '-Jul-19', '-Mar-2005', '5-Jun-2015', '28-Jul-2007', '9-May-1967', '2-Sep-197', 'Aug-1967', '30-Mar-19', '24-Feb-1957', '-Jul-1984', '-Apr-2009', '-Oct-2017', '9-Dec-2012', '3-Aug-1964', '25-Nov-1992', '23-Feb-1962', '28-Apr-2018', '9-Apr-2018', '7-Oct-1967', '21-Aug-197', '27-Nov-2012', '9-Feb-1958', '8-Nov-2014', '24-Oct-19', '29-Jun-1993', '8-Sep-1987', '30-Nov-1984', '26-Oct-1967', '2-Aug-1959', '-Jul-197', '8-May-1968', '5-Sep-1994', '2-Oct-2', '-Sep-1959', '5-Jul-195', '21-Jan-2', '26-Feb-2012', '28-Sep-1995', '20-Apr-1962', '8-Mar-2015', '-Jan-19', '8-Dec-19', '26-Aug-2', 'Aug-1969', '5-Oct-1958', '3-Aug-1952', '29-Mar-2', '23-Jul-1959', '20-Sep-2007', '9-Sep-199', '4-Jul-2015', '26-Mar-2015', '8-Aug-1968', '3-Sep-1967', '9-Dec-19', '29-Feb-19', '-May-1959', '7-Oct-1954', '20-Nov-2005', '25-Jun-2015', '8-Aug-2003', '27-Nov-2004', 'Apr-1967', '5-Apr-1988', '31-Dec-1999', '2-Dec-1975', '2-Jun-2009', '4-Oct-2003', '21-Jun-2017', '25-Mar-2008', '-Jul-2005', 'Oct-1993', '3-Jul-2014', '7-Feb-2002', '9-Feb-2015', '7-Jun-2013', '2-May-2005', '22-Feb-2', '25-Aug-1959', 'Jul-1964', '26-Dec-1972', '9-Jul-2013', 'Jul-2', '30-Aug-1997', 'Jun-1993', '24-Apr-1988', '9-Dec-2017', '22-Aug-1969', '-May-199', '4-May-2014', '2-Dec-2009', '28-Nov-2', '4-Jan-2008', '31-May-1984', 'Early 1963', 'May 1954', '-Aug-1974', '24-Jun-199', '26-May-2018', '7-Mar-1982', 'Jul-1959', '2-Jan-2', '28-Feb-1982', 'Ca. 19', '-Dec-1959', '5-Mar-1978', '9-Jun-2014', '3-Apr-1955', '4-Oct-2014', '28-Dec-2012', '24-Mar-2', '9-Apr-1995', '22-Jul-1969', '-Feb-1958', '-Sep-1974', '21-Dec-195', '2-Nov-2003', '4-Mar-1965', '24-May-2007', '31-Oct-2017', '30-Jul-2009', '23-Jan-1952', '-Jan-2002', '30-Apr-1958', '28-Nov-1993', '21-Sep-2', '2-May-2009', '2-Nov-195', '-Nov-198', '20-Aug-195', '9-Mar-2005', '4-May-1969', '7-Jun-1962', '24-Mar-2012', '28-Sep-198', '23-Oct-1957', '3-Feb-2018', '29-Aug-1989', '-May-1999', '3-Oct-2', '24-Aug-2014', '30-Jan-19', '27-Oct-195', '3-Mar-2002', '29-Jan-19', '-Oct-2013', '29-Mar-1959', '-Sep-19', '7-May-2007', '21-Sep-2014', '23-Jul-2008', '3-Oct-2007', '8-Sep-1965', '26-Nov-1978', '31-Mar-2007', '-Sep-1993', '4-Sep-2005', '28-Aug-2002', '5-May-19', '3-Dec-1987', '29-Nov2013', '5-Aug-2012', '-May-2014', '9-Mar-1975', '-Jul-2007', '23-Jun-2', '-Jun-2012', '2', '31-Jul-2013', '25-Apr-2009', '2-Jul-1997', '23-Jan-199', '3-Sep-1995', '4-Jan-2007', '2-Apr-2002', '3-Feb-1982', '26-Jan-2014', '29-Oct-2005', '9-May-2018', '-May-198', '3-Dec-1952', '22-May-195', '23-Nov-1958', '30-Mar-1963', '-Mar-2007', '31-Jul-2017', 'Jul-1988', '2-Nov-2002', '950.07.19', '2-Apr-2', '-Jul-1953', 'Ca. 1983', '3-Apr-1963', '22-Jan-1954', '7-Jan-2', '26-Dec-1957', '4-Dec-1967', '20-Dec-1998', '5-Jul-2009', '25-Nov-1973', '5-Aug-1967', '24-Feb-2017', '4-Jul-2002', '27-May-1952', '22-Apr-2014', '4-Nov-1968', '2-May-2018', '22-Jul-2014', '21-Apr-2002', '-Nov-1963', '27-Jan-2015', '21-May-1983', '-Oct-2', '4-Feb-1964', '-Nov-1959', '5-Jul-2005', '8-Feb-2014', '22-Feb-2005', 'Nov-2004', '4-Jan-1964', '8-Nov-1989', '23-Nov-1999', '3-Feb-1994', '21-Nov-1983', 'May-1968', '23-Dec-197', '8-Feb-1984', '-Aug-1967', '28-May-2', '8-Apr-1954', '5-Jul-19', 'Sep-1974', '28-Nov-1963', '3-Sep-2007', '4-Jun-2', '-Aug-1983', '2-Jul-1983', '2-Sep-1957', '26-Jul-197', '4-Sep-2003', '7-Jan-1959', '27-Jun-2015', 'Summer 1965', '22-Aug-1985', '24-Feb-199', '8-Dec-1967', '3-Jan-19', '27-Sep-1959', '20-Aug-2004', '2-Aug-1993', '3-Nov-1965', '7-Apr-1963', '4-Jun-2018', '30-Jan-2002', '9-Jun-1968', '-Feb-1959', '5-May-2017', '3-Apr-2013', '21-Aug-1964', '4-Apr-199', '9-Mar-19', '28-Jul-2015', '7-Nov-1975', '959', '28-May-2005', '987', '27-Jan-1985', '-Feb-1984', '29-Sep-1973', '30-Apr-19', '7-Oct-1959', '23-Jul-2', '29-Oct-2014', '-Sep-2009', '-Jun-2004', 'Nov-1982', '5-Oct-195', 'Dec-1959', '9-Apr-19', '2-Jun-2005', '9-Sep-2008', '29-Aug-1992', '7-Feb-19', '5-Oct-2005', '4-Feb-2015', '26-Dec-2', '5-Jun-1998', '7-Aug-1972', '-Oct-2005', 'Feb-1962', '30-Jul-1964', '-Sep-1967', '4-May-2008', '9-Oct-2015', 'May 1993', '27-Jan-1969', '2-Feb-199', 'Mar-2', '21-Mar-1995', '25-Dec-2', 'Early summer 19', '7-Sep-2005', '21-Jan-1973', '29-Dec-1978', '22-Sep-19', '23-Mar-2', '9-Mar-1967', '23-Jul-2015', '24-Aug-2008', '8-Aug-1964', '28-Apr-197', '27-Feb-19', '26-Jun-198', '-Aug-1988', 'Sep-2008', '8-Dec-197', '30-Sep-1962', '28-Jun-2008', '8-Apr-2', 'Jan-1977', '-Apr-2005', '28-Jun-1992', 'Sep- 19', '20-Oct-195', '22-Oct-2008', '-Jan-1965', '8-Aug-2015', '26-Feb-199', '4-Jul-2', '22-Sep-197', '29-May-1965', '8-Aug-1955', '30-Oct-2012', '29-Nov-1964', '9-Feb-198', '5-Jul-2', '7-Jun-199', '-Dec-1979', '-Jul-1964', '2-Aug-1997', '9-Apr-2005', '30-Sep-1995', '-Jan-2013', 'Dec-2008', '28-Mar-2004', '5-Dec-2014', '23-Mar-1994', '4-Jun-1962', '20-Aug-2', '24-Mar-199', '29-Aug-2013', '25-Jun-1968', '-Sep-2007', '3-Jul-1995', '9-Jul-2', '28-Sep-2003', '24-May-1994', '24-May 1983', '3-Jul-2008', '5-Jan-198', '5-Jan-1984', '30-Aug-2008', '-Jun-1988', 'Dec-1968', 'Jul-1987', '9-Jun-2018', 'Early Jun-2', '24-Jul-1982', '25-Jun-2007', '-Oct-1995', '8-May-1985', '9-Nov-2008', '-Oct-197', '25-Mar-1988', '26-May-195', '5-Jul-2003', '26-Aug-2013', '5-Apr-1959', '22-Mar-2014', '21-Mar-2013', '31-Mar-197', '25-Mar-195', '-Nov-19', '26-Jun-199', '9-Feb-19', '5-May-2015', '4-Mar-2004', '4-Feb-1965', '20-May-2', '5-Apr-2', '31-Oct-2014', '7-Apr-1964', '3-Aug-1959', '978', '9-Mar-2002', '25-May-2', '23-Feb-1998', '-Jul-1963', '-Nov-1969', 'Jul-1984', 'Jul-2007', '-Sep-1958', '20-Apr-2017', '3-Oct-198', '22-May-1969', '-Nov-2009', '30-May-1964', '7-Jan-1985', 'May 1964', '24-May-19', '8-Sep-2008', '7-Feb-1975', '27-Jun-1969', '-Aug-2005', '30-Sep-1993', '24-Dec-19', '2-Nov-1977', '7-Dec-197', '979', '5-Oct-1994', '24-Sep-1999', '3-Nov-2014', '24-Jul-1995', '22-Sep-198', '-Oct-1997', 'Aug-1982', '31-Mar-2013', '25-Mar-198', '24-Mar-2002', '3-Apr-2008', 'Feb-19', '31-Jul-1958', '4-Aug-2013', '24-Jan-1983', '-Jan-197', '31-Jul-2012', '25-May-2003', 'Nov-1967', '25-Sep-2004', 'Apr-1953', '25-Aug-2014', '24-Oct-2013', '8-Jan-2', '3-Apr-2004', '20-May-2012', '27-May-2', '-Jun-1962', '-Apr-1968', '29-Aug-2015', '2-Nov-2013', '8-May-198', '28-Dec-1958', '4-Apr-1988', '-May-1977', '3-Aug-2017', '8-Mar-2', '9-Feb-195', '21-Oct-2', '29-Dec-1968', '-Jul-1962', '23-May-2013', '8-Oct-1985', '3-Apr-2', '26-Apr-2007', '5-Oct-2017', '2-Oct-1975', '28-Mar-2', '21-Feb-2008', 'Dec-199', '5-Jun-2005', '20-Jun-2005', '21-Feb-2004', '5-Mar-195', '4-May-2', '27-Aug-2014', '7-Jun-2007', '26-Jul-1975', '31-Aug-1959', '7-Oct-1983', 'Jul-1968', '7-Jul-1993', '5-Oct-1959', '25-Sep-2012', '4-Sep-1998', '3-Sep-195', '4-Apr-1953', '2-Oct-1985', '2-May-2015', '4-Mar-1989', '27-Aug-1967', '-Dec-1964', 'May-1959', '27-Aug-2', '9-Oct-2012', '20-Jun-195', '21-Feb-2013', 'Feb-1969', '30-Jul-1959', '8-Nov-2007', '9-Sep-2014', '22-Aug-1994', '-Dec-2008', '7-Jul-1962', '5-Jan-1954', '28-Dec-19', '22-May-2014', '3-Nov-199', '31-Jul-1953', '24-Aug-1968', 'July 2', '25-Dec-1983', '2-Sep-1978', '954', '29-Mar-2015', 'Apr-2013', '28-Aug-2007', '23-May-2', 'Ca. 197', '-Nov-1974', '9-Jun-1988', '31-Oct-1964', '22-Jul-2013', '26-Aug-1965', '29-Dec-1963', '22-Apr-2', '9-Mar-2', '7-Mar-2009', '3-Jan-1992', '26-Aug-2007', '5-Oct-2007', '5-Feb-1957', '8-Jan-1964', '26-Sep-1963', '7-Jul-2012', 'Jun-2003', '27-Aug-2008', '2-Oct-2009', '22-Jan-199', '20-Jan-1953', '26-Nov-2004', '9-Feb-2013', '26-Jan-1989', '-Apr-1972', '8-Jun-1965', '5-Dec-1988', 'Mar-198', '-Aug-199', '3-Jun-2018', '25-Jan-2009', '-Aug-2012', '-Jan-2008', '25-Oct-2015', '9-Jul-1957', '24-Dec-2002', '8-Sep-2009', '3-Aug-2004', '20-Nov-2015', '9-Nov-1997', '4-Oct-1998', 'May-Jun-1965', '30-Jun-1993', 'Summer 195', '23-Sep-19', '24-Jun-2007', '31-Jul-1982', '24-Oct-1998', '2-Aug-2007', '26-Dec-2004', '9-Mar-2018', '29-Jan-1999', '7-Aug-1984', '20-Sep-2017', '-Apr-1987', '4-Sep-2012', '-Jan-1985', '22-Jul-2007', '28-May-1965', 'Jan-1964', '21-Dec-2007', '27-Feb-2', '-Jul-2004', '9-Aug-1977', '8-Sep-2012', '985', '3-May-199', '5-Oct-198', '26-Sep-1994', '-Aug-1973', '21764', '2-Nov-1975', '26-Sep-19', '26-Mar-1973', 'Nov-1955', '31-Dec-2', '20-Dec-2005', '28-Jan-2018', '5-Jul-1957', '26-Jun-1958', '5-Oct-2015', 'Aug-1992', '27-May-2018', '9-Sep-2012', '7-Sep-1974', '7-Aug-1975', '4-Mar-2', '-May-2003', '30-Jan-1963', '3-Nov-2007', '2-Sep-1962', '9-Jul-198', '23-Aug-1964', '3-Dec-1958', '-Aug-2008', '26-Jul-195', '26-Aug-1999', '8-Oct-2017', '8-Mar-198', '24-Dec-195', '4-Oct-1984', '28-Sep-1974', '28-Dec-1965', '27-Jul-1958', '5-Aug-1998', '22-Aug-1989', 'Oct-1967', '21-Jan-2004', '2008.01.3', '4-Dec-199', '-Aug-1998', '4-Aug-198', '5-Mar-198', '29-May-19', '7-Jun-19', '24-Aug-19', '-Sep-2005', '8-Jan-1983', '5-Nov-1967', '3-Jun-2015', '5-Mar-1999', '-Sep-1984', '2-Dec-2012', '29-Aug-2', '-Apr-1959', '25-Aug-2009', '23-Dec-1958', '8-Nov-198', '3-May-2002', '9-Sep-1997', '9-Apr-2009', '25-Aug-19', '9-Dec-1964', '4-Nov-1992', '22-Dec-2015', '24-Jun-2015', '30-Jun-2015', '4-Nov-1967', '4-Feb-2004', '-Sep-1995', '3-Apr-2005', '8-May-2', '28-Oct-1997', '3-Aug-199', '22-Apr-1969', '2-Apr-1963', 'Feb-1957', '-Sep-1999', 'Oct-1962', '3-Dec-19', '4-Oct-1962', 'May 2018', '29-Jun-2017', '3-Sep-1958', '25-Apr-1974', '29-Jul-1967', '28-Mar-2008', '23-Dec-2', '21-Oct-1995', '31-Mar-1988', '21-Feb-1979', '9-Feb-1978', '9-Jun-2002', '9-Dec-1968', '5-Jul-1964', '2-Aug-19', '5-Dec-195', 'Oct-1953', '31-Jan-2', '22-Jul-2015', '31-Mar-1998', '2-Feb-1968', '24-Sep-2005', '31-Oct-2003', '5-Feb-1989', '26-Jul-1974', '20-Sep-1955', '4-Jan-2018', '2-Feb-1994', '7-May-199', '23-Sep-2005', '-Jun-2', '29-Aug-198', '-Apr-2012', '24-Jul-2017', '9-Feb-199', '9-Jul-1987', '4-Aug-1977', 'Aug-2004', '7-Jan-1962', '25-Aug-1995', '9', '26-Nov-199', '8-Nov-199', '-Jul-1954', '4-Oct-197', '-Mar-1982', '4-Oct-1975', '26-Jun-1972', '8-Jan-197', 'Dec-1973', '25-Jun-2005', '4-Nov-1963', '-Nov-2004', '28-Jun-199', '-Jul-2015', '2-Jan-2004', '29-Jan-1992', '21-Sep-1965', '-Nov-1955', 'Jun-197', '29-Jun-1964', '4-Aug-2005', '9-Sep-19', '9-Mar-197', '2-Apr-2014', 'Oct-19', '3-Apr-2018', '7-Apr-2008', '30-Nov-1967', '2-Nov-1989', '29-Aug-1962', '30-Apr-2018', '29-May-2012', '4-Apr-2004', '9-Dec-2007', '2-Aug-1975', '9-Oct-2004', 'Aug-1957', '23-Jul-198', '22-Jun-1998', '26-Dec-1999', '23-Jan-197', '3-Jul-1962', '7-May-2009', '5-Jun-198', '8-Oct-2015', '23-Jun-1995', '3-Dec-2', '26-Apr-2008', '24-Jun-1997', '31-Oct-2013', '5-Dec-2013', '20-Nov-2', '24-Oct-1997', '5-Aug-1977', '24-May-1969', '9-Dec-1977', '-Apr-1965', '2-Feb-1964', '8-Feb-1962', '4-Jul-2014', '3-Apr-19', '20-Apr-1968', '30-Jul-1993', '25-Jan-1965', '31-Dec-2012', '30-Nov-2003', '5-Jan-2013', '24-Feb-2008', '3-Mar-2012', '21-Oct-1965', '9-Aug-2007', '5-Sep-1954', '2-Oct-1958', '8-May-1987', '-Jul-195', '24-Mar-198', '24-Apr-2014', '9-Sep-2003', '25-Nov-2', '28-Oct-2017', '27-Aug-1973', '7-Aug-2002', '24-Jun-1958', '26-May-1977', '8-Sep-2013', '23-Oct-2013', '28-Jul-2013', '7-Jul-2007', 'May 1962', '-Feb-2017', '7-Mar-2008', '5-Nov-2015', '9-Sep-2', '22-Oct-1979', '25-Jan-2013', '3-Feb-2007', 'Feb-1953', '8-Jun-2014', '-Jul-199', 'Jun-1969', 'Mar-1953', '4-Apr-2017', '20-Apr-2002', '23-Jul-1975', '-Mar-1995', '-Apr-2007', '24-Aug-198', '23-Jul-1968', '5-Aug-2014', '5-Mar-2007', '2-May-2017', '21-Aug-19', '4-Jan-2002', '26-Oct-2013', '9-Jul-2008', 'Mar-1974', '26-Jan-2013', '2-Oct-197', '8-Dec-1972', '9-Jan-2017', '5-Mar-1998', '4-Apr-2003', 'Sep-1975', '5-Mar-2005', '23-Feb-2018', '7-Feb-2017', '24-Apr-2013', '4-Feb-2005', '24-Jun-2003', '30-Sep-1959', '23-Jan-2', '2-Sep-2012', '8-Aug-2', '7-Jun-2014', '8-Aug-1992', '26-Feb-1999', '30-Jun-1995', '22-Dec-1983', '30-Jun-2007', '5-Oct-1963', '29-Dec-199', '-Jan-1992', '-Apr-2015', 'Between 10 and 12-Sep-1959', '9-Mar-1989', '20-Sep-1964', '-Aug-1952', '27-Sep-2', '8-Apr-1963', '4-Apr-1965', '27-Dec-2', '7-Oct-1984', '21-Mar-2008', '-Apr-1999', '8-Jun-2013', '23-Apr-2003', '24-Aug-1997', 'Between May & Nov-1993', '4-Mar-19', '8-Aug-2017', '2-Mar-2014', '2-Jul-195', '-Feb-1955', '8-May-1955', '24-Jul-2012', '31-Jan-1959', '-Dec-1965', '26-Jul-1998', '23-Oct-197', '8-Oct-1989', '5-Feb-2', 'Mar-1964', 'Nov-1987', '5-Nov-2009', '7-Jul-199', '25-Mar-2005', '27-May-2017', '3-Jul-2', '30-Oct-19', '22-Mar-1993', '25-Jan-2004', '5-Nov-2', '25-Jun-2013', '22-Jul-2', '5-Jul-1983', '8-Dec-1957', 'Nov-2002', '8-Dec-2015', '21-Jul-1985', '9-Jan-2012', '22-Aug-2', '25-Jul-2', '5-Jun-1997', '21-Dec-1952', '8-May-2013', '4-Sep-1972', '7-Apr-1998', '2-Aug-2005', '25-Nov-2009', '28-Sep-1988', '4-Apr-1974', '-Mar-2003', '22-Nov-2012', '22-Apr-1963', '26-Apr-1977', '7-Dec-1967', '2-Dec-2013', '27-Jul-2014', 'Nov-19', '4-Feb-2', '5-Dec-2', '30-Nov-2', '2-Apr-1994', '21-Dec-1973', '29-Apr-1965', '27-Jun-19', '5-Aug-1959', '3-Jan-2012', '29-Nov-195', '25-Jun-195', '31-Aug-2014', '2-Nov-1959', '3-Sep-2017', '23-Nov-1992', '3-Jan-2009', '21-Jul-1997', '26-Oct-1987', '26-Dec-198', '5-Jun-1975', '23-Apr-1989', '-Nov-1994', '4-Apr-197', '25-Jul-2015', '2-Jan-2012', '-Oct-1972', '9-Aug-1988', '8-Apr-1987', '952-1954', '22-Mar-2012', '28-Aug-2012', '-Feb-2009', '22-Mar-2007', '9-May-2', '24-Jun-2', '29-Sep-2003', '7-Jun-2015', '20-Oct-2', '23-Jul-2005', '5-Dec-1979'}\n"
     ]
    }
   ],
   "source": [
    "print(set(df_clean[\"DATE\"]))\n",
    "\n"
   ]
  },
  {
   "cell_type": "code",
   "execution_count": 629,
   "metadata": {},
   "outputs": [
    {
     "data": {
      "text/plain": [
       "0           Jun\n",
       "1           Jun\n",
       "2           Jun\n",
       "3           Jun\n",
       "4           Jun\n",
       "         ...   \n",
       "4493     Summer\n",
       "4494         95\n",
       "4495         95\n",
       "4496    Ca. 195\n",
       "4497    Ca. 195\n",
       "Name: MONTH, Length: 4497, dtype: object"
      ]
     },
     "execution_count": 629,
     "metadata": {},
     "output_type": "execute_result"
    }
   ],
   "source": [
    "df_clean[\"MONTH\"]"
   ]
  },
  {
   "cell_type": "code",
   "execution_count": 579,
   "metadata": {},
   "outputs": [],
   "source": [
    "#data['result'].replace(regex=True,inplace=True,to_replace=r'\\D',value=r'')\n",
    "\n",
    "#df[Date_clean] = pd.to_datetime(df_clean[\"Date\"])"
   ]
  },
  {
   "cell_type": "markdown",
   "metadata": {},
   "source": [
    "## MONTH"
   ]
  },
  {
   "cell_type": "markdown",
   "metadata": {},
   "source": [
    "I create a new columns only with months"
   ]
  },
  {
   "cell_type": "code",
   "execution_count": 580,
   "metadata": {},
   "outputs": [],
   "source": [
    "#I try to create a new column with months. But it didn't work...\n",
    "df_clean[\"MONTH\"] = np.where(df_clean[\"DATE\"].str.contains(\"Jan\"), \"January\", df_clean[\"DATE\"])\n",
    "def months_column(x,y):\n",
    "    df_clean[\"MONTH\"] = np.where(df_clean[\"DATE\"].str.contains(x), y, df_clean[\"MONTH\"])\n",
    "months_column(\"Jan\",\"January\")\n",
    "months_column(\"Feb\", \"February\")\n",
    "months_column(\"Mar\", \"March\")\n",
    "months_column(\"Apr\", \"April\")\n",
    "months_column(\"May\",\"May\")\n",
    "months_column(\"Jun\",\"Jun\")\n",
    "months_column(\"Jul\",\"July\")\n",
    "months_column(\"Aug\",\"Augost\")\n",
    "months_column(\"Sep\",\"September\")\n",
    "months_column(\"Oct\",\"October\")\n",
    "months_column(\"Nov\",\"November\")\n",
    "months_column(\"Dec\",\"December\")\n",
    "\n",
    "df_clean['MONTH']=np.where(df_clean['MONTH'].str.contains(\"Ap\"), \"April\", df_clean['MONTH'])\n",
    "df_clean['MONTH']=np.where(df_clean['MONTH'].str.contains(\"Summer\"), \"Summer\", df_clean['MONTH'])\n",
    "df_clean['MONTH']=np.where(df_clean['MONTH'].str.contains(\"summer\"), \"Summer\", df_clean['MONTH'])\n",
    "df_clean['MONTH']=np.where(df_clean['MONTH'].str.contains(\"Fall\"), \"Fall\", df_clean['MONTH'])\n",
    "df_clean['MONTH']=np.where(df_clean['MONTH'].str.contains(\"Winter\"), \"Winter\", df_clean['MONTH'])\n"
   ]
  },
  {
   "cell_type": "code",
   "execution_count": 581,
   "metadata": {},
   "outputs": [
    {
     "name": "stdout",
     "output_type": "stream",
     "text": [
      "['Jun' 'May' 'April' 'March' 'February' 'January' 'December' 'November'\n",
      " 'October' 'September' 'Augost' 'July' '2017.06.05' '2014' '2008.01.3'\n",
      " 'Fall' 'Summer' '2004' '2' '999' '998' '99' '995'\n",
      " 'incident of 1994 in Hong Kong' '994' '993' '992' '989' '988' '987' '98'\n",
      " '985' '984' 'Ca. 1983' '983' '982' '2-30-198' '979' '978' '97' '975'\n",
      " '974' '973' '972' 'Ca. 197' 'Winter' '968' '965' 'Early 1965' 'Ca. 1965'\n",
      " 'Early 1963' '963' '962' 'Ca. 1962' '9' '960-19' 'Ca. 19' '21764' '959'\n",
      " '958-1959' '958' 'Circa 1958' '957' '95' '955' 'Ca. 1955' '9955' '954'\n",
      " '954 (same day as  1954.00.00.f)' '953' '952-1954' '952' '\\n1951.12.15'\n",
      " '950.07.19' '950 - 195' 'Ca. 195']\n"
     ]
    }
   ],
   "source": [
    "print (df_clean['MONTH'].unique())"
   ]
  },
  {
   "cell_type": "markdown",
   "metadata": {},
   "source": [
    "## TYPE"
   ]
  },
  {
   "cell_type": "code",
   "execution_count": 582,
   "metadata": {},
   "outputs": [
    {
     "data": {
      "text/plain": [
       "0          Boating\n",
       "1       Unprovoked\n",
       "2          Invalid\n",
       "3       Unprovoked\n",
       "4         Provoked\n",
       "           ...    \n",
       "4493    Unprovoked\n",
       "4494    Unprovoked\n",
       "4495    Unprovoked\n",
       "4496    Unprovoked\n",
       "4497    Unprovoked\n",
       "Name: TYPE, Length: 4497, dtype: object"
      ]
     },
     "execution_count": 582,
     "metadata": {},
     "output_type": "execute_result"
    }
   ],
   "source": [
    "df_clean[\"TYPE\"]"
   ]
  },
  {
   "cell_type": "code",
   "execution_count": 583,
   "metadata": {},
   "outputs": [
    {
     "name": "stdout",
     "output_type": "stream",
     "text": [
      "['Boating' 'Unprovoked' 'Invalid' 'Provoked' 'Questionable' 'Sea Disaster'\n",
      " nan 'Boat' 'Boatomg']\n"
     ]
    }
   ],
   "source": [
    "print (df_clean['TYPE'].unique())"
   ]
  },
  {
   "cell_type": "code",
   "execution_count": 584,
   "metadata": {},
   "outputs": [],
   "source": [
    "df_clean['TYPE']=df_clean['TYPE'].fillna(\"UNKNOWN\")\n",
    "\n",
    "df_clean['TYPE']=np.where(df_clean['TYPE'].str.startswith('Boa'), \n",
    "                            \"Boating\", \n",
    "                            df_clean['TYPE'])"
   ]
  },
  {
   "cell_type": "code",
   "execution_count": 585,
   "metadata": {},
   "outputs": [
    {
     "name": "stdout",
     "output_type": "stream",
     "text": [
      "['Boating' 'Unprovoked' 'Invalid' 'Provoked' 'Questionable' 'Sea Disaster'\n",
      " 'UNKNOWN']\n"
     ]
    }
   ],
   "source": [
    "print (df_clean['TYPE'].unique())"
   ]
  },
  {
   "cell_type": "markdown",
   "metadata": {},
   "source": [
    "## ACTIVITY"
   ]
  },
  {
   "cell_type": "code",
   "execution_count": 586,
   "metadata": {},
   "outputs": [
    {
     "data": {
      "text/plain": [
       "0                                                Paddling\n",
       "1                                                Standing\n",
       "2                                                 Surfing\n",
       "3                                                 Surfing\n",
       "4                                             Free diving\n",
       "                              ...                        \n",
       "4493                                             Swimming\n",
       "4494                                     Diving for coins\n",
       "4495    Spearfishing, but walking carrying fish on end...\n",
       "4496              Helmet diving, collecting trochus shell\n",
       "4497                                                  NaN\n",
       "Name: ACTIVITY, Length: 4497, dtype: object"
      ]
     },
     "execution_count": 586,
     "metadata": {},
     "output_type": "execute_result"
    }
   ],
   "source": [
    "df_clean[\"ACTIVITY\"]"
   ]
  },
  {
   "cell_type": "code",
   "execution_count": 587,
   "metadata": {},
   "outputs": [],
   "source": [
    "df_clean['ACTIVITY'] = df_clean['ACTIVITY'].str.lower() "
   ]
  },
  {
   "cell_type": "code",
   "execution_count": 588,
   "metadata": {},
   "outputs": [],
   "source": [
    "df_clean['ACTIVITY_TYPE']=df_clean['ACTIVITY'].fillna(\"UNKNOWN\")\n",
    "df_clean['ACTIVITY_TYPE']=np.where(df_clean['ACTIVITY'].str.contains(\"surf\"), \"Surfing\", df_clean['ACTIVITY'])\n",
    "df_clean['ACTIVITY_TYPE']=np.where(df_clean['ACTIVITY'].str.contains(\"div\"), \"Diving\", df_clean['ACTIVITY_TYPE'])\n",
    "df_clean['ACTIVITY_TYPE']=np.where(df_clean['ACTIVITY'].str.contains(\"swim\"), \"Swiming\", df_clean['ACTIVITY_TYPE'])\n",
    "df_clean['ACTIVITY_TYPE']=np.where(df_clean['ACTIVITY'].str.contains(\"fish\"), \"Fishing\", df_clean['ACTIVITY_TYPE'])\n",
    "\n"
   ]
  },
  {
   "cell_type": "code",
   "execution_count": 589,
   "metadata": {},
   "outputs": [],
   "source": [
    "#print (df_clean['ACTIVITY_TYPE'].unique())"
   ]
  },
  {
   "cell_type": "markdown",
   "metadata": {},
   "source": [
    "## COUNTRY"
   ]
  },
  {
   "cell_type": "code",
   "execution_count": 590,
   "metadata": {},
   "outputs": [
    {
     "name": "stdout",
     "output_type": "stream",
     "text": [
      "['USA' 'AUSTRALIA' 'MEXICO' 'BRAZIL' 'ENGLAND' 'SOUTH AFRICA' 'THAILAND'\n",
      " 'COSTA RICA' 'MALDIVES' 'BAHAMAS' 'NEW CALEDONIA' 'ECUADOR' 'MALAYSIA'\n",
      " 'LIBYA' nan 'CUBA' 'MAURITIUS' 'NEW ZEALAND' 'SPAIN' 'SAMOA'\n",
      " 'SOLOMON ISLANDS' 'JAPAN' 'EGYPT' 'ST HELENA, British overseas territory'\n",
      " 'COMOROS' 'REUNION' 'FRENCH POLYNESIA' 'UNITED KINGDOM'\n",
      " 'UNITED ARAB EMIRATES' 'PHILIPPINES' 'INDONESIA' 'CHINA' 'COLUMBIA'\n",
      " 'CAPE VERDE' 'Fiji' 'DOMINICAN REPUBLIC' 'CAYMAN ISLANDS' 'ARUBA'\n",
      " 'MOZAMBIQUE' 'FIJI' 'PUERTO RICO' 'ITALY' 'ATLANTIC OCEAN' 'GREECE'\n",
      " 'ST. MARTIN' 'FRANCE' 'PAPUA NEW GUINEA' 'TRINIDAD & TOBAGO' 'KIRIBATI'\n",
      " 'ISRAEL' 'DIEGO GARCIA' 'TAIWAN' 'JAMAICA' 'PALESTINIAN TERRITORIES'\n",
      " 'GUAM' 'SEYCHELLES' 'BELIZE' 'NIGERIA' 'TONGA' 'SCOTLAND' 'CANADA'\n",
      " 'CROATIA' 'SAUDI ARABIA' 'CHILE' 'ANTIGUA' 'KENYA' 'RUSSIA'\n",
      " 'TURKS & CAICOS' 'UNITED ARAB EMIRATES (UAE)' 'AZORES' 'SOUTH KOREA'\n",
      " 'MALTA' 'VIETNAM' 'MADAGASCAR' 'PANAMA' 'SOMALIA' 'NEVIS'\n",
      " 'BRITISH VIRGIN ISLANDS' 'NORWAY' 'SENEGAL' 'YEMEN' 'GULF OF ADEN'\n",
      " 'Sierra Leone' 'ST. MAARTIN' 'GRAND CAYMAN' 'Seychelles' 'LIBERIA'\n",
      " 'VANUATU' 'MEXICO ' 'HONDURAS' 'VENEZUELA' 'SRI LANKA' ' TONGA' 'URUGUAY'\n",
      " 'INDIA' 'MICRONESIA' 'CARIBBEAN SEA' 'OKINAWA' 'TANZANIA'\n",
      " 'MARSHALL ISLANDS' 'EGYPT / ISRAEL' 'NORTHERN ARABIAN SEA' 'HONG KONG'\n",
      " 'EL SALVADOR' 'ANGOLA' 'BERMUDA' 'MONTENEGRO' 'IRAN' 'TUNISIA' 'NAMIBIA'\n",
      " 'NORTH ATLANTIC OCEAN' 'PORTUGAL' 'SOUTH CHINA SEA' 'BANGLADESH' 'PALAU'\n",
      " 'WESTERN SAMOA' 'PACIFIC OCEAN ' 'BRITISH ISLES' 'GRENADA' 'IRAQ'\n",
      " 'TURKEY' 'SINGAPORE' 'NEW BRITAIN' 'SUDAN' 'JOHNSTON ISLAND'\n",
      " 'SOUTH PACIFIC OCEAN' 'NEW GUINEA' 'RED SEA' 'NORTH PACIFIC OCEAN'\n",
      " 'FEDERATED STATES OF MICRONESIA' 'MID ATLANTIC OCEAN' 'ADMIRALTY ISLANDS'\n",
      " 'BRITISH WEST INDIES' 'SOUTH ATLANTIC OCEAN' 'PERSIAN GULF'\n",
      " 'RED SEA / INDIAN OCEAN' 'PACIFIC OCEAN' 'NORTH SEA' 'NICARAGUA '\n",
      " 'MALDIVE ISLANDS' 'AMERICAN SAMOA' 'ANDAMAN / NICOBAR ISLANDAS' 'GABON'\n",
      " 'MAYOTTE' 'NORTH ATLANTIC OCEAN ' 'THE BALKANS' 'SUDAN?' 'ARGENTINA'\n",
      " 'MARTINIQUE' 'INDIAN OCEAN' 'GUATEMALA' 'NETHERLANDS ANTILLES']\n"
     ]
    }
   ],
   "source": [
    "print (df_clean['COUNTRY'].unique())"
   ]
  },
  {
   "cell_type": "code",
   "execution_count": 591,
   "metadata": {},
   "outputs": [],
   "source": [
    "df_clean['COUNTRY'] = df_clean['COUNTRY'].str.upper() "
   ]
  },
  {
   "cell_type": "code",
   "execution_count": 592,
   "metadata": {},
   "outputs": [
    {
     "name": "stdout",
     "output_type": "stream",
     "text": [
      "['USA' 'AUSTRALIA' 'MEXICO' 'BRAZIL' 'ENGLAND' 'SOUTH AFRICA' 'THAILAND'\n",
      " 'COSTA RICA' 'MALDIVES' 'BAHAMAS' 'NEW CALEDONIA' 'ECUADOR' 'MALAYSIA'\n",
      " 'LIBYA' nan 'CUBA' 'MAURITIUS' 'NEW ZEALAND' 'SPAIN' 'SAMOA'\n",
      " 'SOLOMON ISLANDS' 'JAPAN' 'EGYPT' 'ST HELENA, BRITISH OVERSEAS TERRITORY'\n",
      " 'COMOROS' 'REUNION' 'FRENCH POLYNESIA' 'UNITED KINGDOM'\n",
      " 'UNITED ARAB EMIRATES' 'PHILIPPINES' 'INDONESIA' 'CHINA' 'COLUMBIA'\n",
      " 'CAPE VERDE' 'FIJI' 'DOMINICAN REPUBLIC' 'CAYMAN ISLANDS' 'ARUBA'\n",
      " 'MOZAMBIQUE' 'PUERTO RICO' 'ITALY' 'ATLANTIC OCEAN' 'GREECE' 'ST. MARTIN'\n",
      " 'FRANCE' 'PAPUA NEW GUINEA' 'TRINIDAD & TOBAGO' 'KIRIBATI' 'ISRAEL'\n",
      " 'DIEGO GARCIA' 'TAIWAN' 'JAMAICA' 'PALESTINIAN TERRITORIES' 'GUAM'\n",
      " 'SEYCHELLES' 'BELIZE' 'NIGERIA' 'TONGA' 'SCOTLAND' 'CANADA' 'CROATIA'\n",
      " 'SAUDI ARABIA' 'CHILE' 'ANTIGUA' 'KENYA' 'RUSSIA' 'TURKS & CAICOS'\n",
      " 'UNITED ARAB EMIRATES (UAE)' 'AZORES' 'SOUTH KOREA' 'MALTA' 'VIETNAM'\n",
      " 'MADAGASCAR' 'PANAMA' 'SOMALIA' 'NEVIS' 'BRITISH VIRGIN ISLANDS' 'NORWAY'\n",
      " 'SENEGAL' 'YEMEN' 'GULF OF ADEN' 'SIERRA LEONE' 'ST. MAARTIN'\n",
      " 'GRAND CAYMAN' 'LIBERIA' 'VANUATU' 'MEXICO ' 'HONDURAS' 'VENEZUELA'\n",
      " 'SRI LANKA' ' TONGA' 'URUGUAY' 'INDIA' 'MICRONESIA' 'CARIBBEAN SEA'\n",
      " 'OKINAWA' 'TANZANIA' 'MARSHALL ISLANDS' 'EGYPT / ISRAEL'\n",
      " 'NORTHERN ARABIAN SEA' 'HONG KONG' 'EL SALVADOR' 'ANGOLA' 'BERMUDA'\n",
      " 'MONTENEGRO' 'IRAN' 'TUNISIA' 'NAMIBIA' 'NORTH ATLANTIC OCEAN' 'PORTUGAL'\n",
      " 'SOUTH CHINA SEA' 'BANGLADESH' 'PALAU' 'WESTERN SAMOA' 'PACIFIC OCEAN '\n",
      " 'BRITISH ISLES' 'GRENADA' 'IRAQ' 'TURKEY' 'SINGAPORE' 'NEW BRITAIN'\n",
      " 'SUDAN' 'JOHNSTON ISLAND' 'SOUTH PACIFIC OCEAN' 'NEW GUINEA' 'RED SEA'\n",
      " 'NORTH PACIFIC OCEAN' 'FEDERATED STATES OF MICRONESIA'\n",
      " 'MID ATLANTIC OCEAN' 'ADMIRALTY ISLANDS' 'BRITISH WEST INDIES'\n",
      " 'SOUTH ATLANTIC OCEAN' 'PERSIAN GULF' 'RED SEA / INDIAN OCEAN'\n",
      " 'PACIFIC OCEAN' 'NORTH SEA' 'NICARAGUA ' 'MALDIVE ISLANDS'\n",
      " 'AMERICAN SAMOA' 'ANDAMAN / NICOBAR ISLANDAS' 'GABON' 'MAYOTTE'\n",
      " 'NORTH ATLANTIC OCEAN ' 'THE BALKANS' 'SUDAN?' 'ARGENTINA' 'MARTINIQUE'\n",
      " 'INDIAN OCEAN' 'GUATEMALA' 'NETHERLANDS ANTILLES']\n"
     ]
    }
   ],
   "source": [
    "print (df_clean['COUNTRY'].unique())"
   ]
  },
  {
   "cell_type": "code",
   "execution_count": 593,
   "metadata": {},
   "outputs": [],
   "source": [
    "#Irealize that this methode change the NaN elements, so first of all I have to re-fill them.\n",
    "df_clean['COUNTRY']=df_clean['COUNTRY'].fillna(\"UNKNOWN\")\n",
    "df_clean['COUNTRY']=np.where(df_clean['COUNTRY'].str.contains(\"EMIRATES\"), \"UNITED ARAB EMIRATES\", df_clean['COUNTRY'])\n",
    "df_clean['COUNTRY']=np.where(df_clean['COUNTRY'].str.contains(\"ENGLAND\"), \"UNITED KINGDOM\", df_clean['COUNTRY'])\n",
    "df_clean['COUNTRY']=np.where(df_clean['COUNTRY'].str.contains(\"ST. MAARTIN\"), \"ST. MARTIN\", df_clean['COUNTRY'])\n",
    "df_clean['COUNTRY']=np.where(df_clean['COUNTRY'].str.contains(\"BRITISH ISLES\"), \"UNITED KINGDOM\", df_clean['COUNTRY'])\n",
    "df_clean['COUNTRY']=np.where(df_clean['COUNTRY'].str.contains(\"SUDAN?\"), \"SUDAN\", df_clean['COUNTRY'])\n",
    "df_clean['COUNTRY']=np.where(df_clean['COUNTRY'].str.contains(\"NEW GUINEA\"), \"PAPUA NEW GUINEA\", df_clean['COUNTRY'])\n",
    "df_clean['COUNTRY']=np.where(df_clean['COUNTRY'].str.contains(\"RED SEA\"), \"RED SEA\", df_clean['COUNTRY'])\n",
    "df_clean['COUNTRY']=np.where(df_clean['COUNTRY'].str.contains(\"GRAND CAYMAN\"), \"CAYMAN ISLANDS\", df_clean['COUNTRY'])\n",
    "df_clean['COUNTRY']=np.where(df_clean['COUNTRY'].str.contains(\"FEDERATED STATES OF MICRONESIA\"), \"MICRONESIA\", df_clean['COUNTRY'])\n",
    "df_clean['COUNTRY']=np.where(df_clean['COUNTRY'].str.contains(\"PACIFIC OCEAN \"), \"PACIFIC OCEAN\", df_clean['COUNTRY'])\n"
   ]
  },
  {
   "cell_type": "code",
   "execution_count": 594,
   "metadata": {},
   "outputs": [
    {
     "name": "stdout",
     "output_type": "stream",
     "text": [
      "['USA' 'AUSTRALIA' 'MEXICO' 'BRAZIL' 'UNITED KINGDOM' 'SOUTH AFRICA'\n",
      " 'THAILAND' 'COSTA RICA' 'MALDIVES' 'BAHAMAS' 'NEW CALEDONIA' 'ECUADOR'\n",
      " 'MALAYSIA' 'LIBYA' 'UNKNOWN' 'CUBA' 'MAURITIUS' 'NEW ZEALAND' 'SPAIN'\n",
      " 'SAMOA' 'SOLOMON ISLANDS' 'JAPAN' 'EGYPT'\n",
      " 'ST HELENA, BRITISH OVERSEAS TERRITORY' 'COMOROS' 'REUNION'\n",
      " 'FRENCH POLYNESIA' 'UNITED ARAB EMIRATES' 'PHILIPPINES' 'INDONESIA'\n",
      " 'CHINA' 'COLUMBIA' 'CAPE VERDE' 'FIJI' 'DOMINICAN REPUBLIC'\n",
      " 'CAYMAN ISLANDS' 'ARUBA' 'MOZAMBIQUE' 'PUERTO RICO' 'ITALY'\n",
      " 'ATLANTIC OCEAN' 'GREECE' 'ST. MARTIN' 'FRANCE' 'PAPUA NEW GUINEA'\n",
      " 'TRINIDAD & TOBAGO' 'KIRIBATI' 'ISRAEL' 'DIEGO GARCIA' 'TAIWAN' 'JAMAICA'\n",
      " 'PALESTINIAN TERRITORIES' 'GUAM' 'SEYCHELLES' 'BELIZE' 'NIGERIA' 'TONGA'\n",
      " 'SCOTLAND' 'CANADA' 'CROATIA' 'SAUDI ARABIA' 'CHILE' 'ANTIGUA' 'KENYA'\n",
      " 'RUSSIA' 'TURKS & CAICOS' 'AZORES' 'SOUTH KOREA' 'MALTA' 'VIETNAM'\n",
      " 'MADAGASCAR' 'PANAMA' 'SOMALIA' 'NEVIS' 'BRITISH VIRGIN ISLANDS' 'NORWAY'\n",
      " 'SENEGAL' 'YEMEN' 'GULF OF ADEN' 'SIERRA LEONE' 'LIBERIA' 'VANUATU'\n",
      " 'MEXICO ' 'HONDURAS' 'VENEZUELA' 'SRI LANKA' ' TONGA' 'URUGUAY' 'INDIA'\n",
      " 'MICRONESIA' 'CARIBBEAN SEA' 'OKINAWA' 'TANZANIA' 'MARSHALL ISLANDS'\n",
      " 'EGYPT / ISRAEL' 'NORTHERN ARABIAN SEA' 'HONG KONG' 'EL SALVADOR'\n",
      " 'ANGOLA' 'BERMUDA' 'MONTENEGRO' 'IRAN' 'TUNISIA' 'NAMIBIA'\n",
      " 'NORTH ATLANTIC OCEAN' 'PORTUGAL' 'SOUTH CHINA SEA' 'BANGLADESH' 'PALAU'\n",
      " 'WESTERN SAMOA' 'PACIFIC OCEAN' 'GRENADA' 'IRAQ' 'TURKEY' 'SINGAPORE'\n",
      " 'NEW BRITAIN' 'SUDAN' 'JOHNSTON ISLAND' 'SOUTH PACIFIC OCEAN' 'RED SEA'\n",
      " 'NORTH PACIFIC OCEAN' 'MID ATLANTIC OCEAN' 'ADMIRALTY ISLANDS'\n",
      " 'BRITISH WEST INDIES' 'SOUTH ATLANTIC OCEAN' 'PERSIAN GULF' 'NORTH SEA'\n",
      " 'NICARAGUA ' 'MALDIVE ISLANDS' 'AMERICAN SAMOA'\n",
      " 'ANDAMAN / NICOBAR ISLANDAS' 'GABON' 'MAYOTTE' 'NORTH ATLANTIC OCEAN '\n",
      " 'THE BALKANS' 'ARGENTINA' 'MARTINIQUE' 'INDIAN OCEAN' 'GUATEMALA'\n",
      " 'NETHERLANDS ANTILLES']\n"
     ]
    }
   ],
   "source": [
    "print (df_clean['COUNTRY'].unique())"
   ]
  },
  {
   "cell_type": "markdown",
   "metadata": {},
   "source": [
    "## AREA"
   ]
  },
  {
   "cell_type": "code",
   "execution_count": 595,
   "metadata": {},
   "outputs": [],
   "source": [
    "#print(df_clean['AREA'].unique())"
   ]
  },
  {
   "cell_type": "markdown",
   "metadata": {},
   "source": [
    "## FATAL (Y/N)"
   ]
  },
  {
   "cell_type": "code",
   "execution_count": 596,
   "metadata": {},
   "outputs": [
    {
     "name": "stdout",
     "output_type": "stream",
     "text": [
      "['N' 'Y' nan 'M' 'UNKNOWN' '2017' ' N']\n"
     ]
    }
   ],
   "source": [
    "print(df_clean['FATAL (Y/N)'].unique())"
   ]
  },
  {
   "cell_type": "code",
   "execution_count": 597,
   "metadata": {},
   "outputs": [],
   "source": [
    "df_clean['FATAL (Y/N)']=df_clean['FATAL (Y/N)'].fillna(\"UNKNOWN\")\n",
    "df_clean['FATAL (Y/N)']=np.where(df_clean['FATAL (Y/N)'].str.contains(\"M\"), \"N\", df_clean['FATAL (Y/N)'])\n",
    "df_clean['FATAL (Y/N)']=np.where(df_clean['FATAL (Y/N)'].str.contains(\" N\"), \"N\", df_clean['FATAL (Y/N)'])\n",
    "df_clean['FATAL (Y/N)']=np.where(df_clean['FATAL (Y/N)'].str.contains(\"2017\"), \"N\", df_clean['FATAL (Y/N)'])\n"
   ]
  },
  {
   "cell_type": "code",
   "execution_count": 598,
   "metadata": {},
   "outputs": [
    {
     "name": "stdout",
     "output_type": "stream",
     "text": [
      "['N' 'Y' 'UNKNOWN']\n"
     ]
    }
   ],
   "source": [
    "print(df_clean['FATAL (Y/N)'].unique())"
   ]
  },
  {
   "cell_type": "code",
   "execution_count": 599,
   "metadata": {},
   "outputs": [
    {
     "data": {
      "text/plain": [
       "DATE                0\n",
       "YEAR                0\n",
       "TYPE                0\n",
       "COUNTRY             0\n",
       "AREA              217\n",
       "LOCATION          272\n",
       "ACTIVITY          320\n",
       "INJURY             15\n",
       "FATAL (Y/N)         0\n",
       "TIME             1901\n",
       "SPECIES          1602\n",
       "MONTH               0\n",
       "ACTIVITY_TYPE       0\n",
       "dtype: int64"
      ]
     },
     "execution_count": 599,
     "metadata": {},
     "output_type": "execute_result"
    }
   ],
   "source": [
    "df_clean.isna().sum()"
   ]
  },
  {
   "cell_type": "markdown",
   "metadata": {},
   "source": [
    "## SPECIES"
   ]
  },
  {
   "cell_type": "code",
   "execution_count": 602,
   "metadata": {},
   "outputs": [
    {
     "name": "stdout",
     "output_type": "stream",
     "text": [
      "['White shark' nan '2 m shark' ...\n",
      " \"Tiger shark, 3.7 m to 4.3 m  [12' to 14']\"\n",
      " 'Alleged to involve a white shark \"with little yellow eyes\"'\n",
      " \"2.7 m [9'] shark with black-tipped pectoral fins\"]\n"
     ]
    }
   ],
   "source": [
    "print(df_clean['SPECIES '].unique())"
   ]
  },
  {
   "cell_type": "code",
   "execution_count": 607,
   "metadata": {},
   "outputs": [],
   "source": [
    "df_clean['SPECIES'] = df_clean['SPECIES '].fillna(\"UNKNOWN\")\n",
    "df_clean['SPECIES'] = df_clean['SPECIES'].str.lower() "
   ]
  },
  {
   "cell_type": "code",
   "execution_count": 608,
   "metadata": {},
   "outputs": [],
   "source": [
    "df_clean['SPECIES']=np.where(df_clean['SPECIES'].str.contains(\"white\"), \"white shark\", df_clean['SPECIES'])\n",
    "df_clean['SPECIES']=np.where(df_clean['SPECIES'].str.contains(\"tiger\"), \"tiger shark\", df_clean['SPECIES'])\n",
    "df_clean['SPECIES']=np.where(df_clean['SPECIES'].str.contains(\"bull\"), \"bull shark\", df_clean['SPECIES'])\n",
    "df_clean['SPECIES']=np.where(df_clean['SPECIES'].str.contains(\"blacktip\"), \"blacktip shark\", df_clean['SPECIES'])\n",
    "df_clean['SPECIES']=np.where(df_clean['SPECIES'].str.contains(\"lemon\"), \"lemon shark\", df_clean['SPECIES'])\n",
    "df_clean['SPECIES']=np.where(df_clean['SPECIES'].str.contains(\"grey\"), \"grey shark\", df_clean['SPECIES'])"
   ]
  },
  {
   "cell_type": "code",
   "execution_count": 609,
   "metadata": {},
   "outputs": [
    {
     "name": "stdout",
     "output_type": "stream",
     "text": [
      "['White shark' nan '2 m shark' ...\n",
      " \"Tiger shark, 3.7 m to 4.3 m  [12' to 14']\"\n",
      " 'Alleged to involve a white shark \"with little yellow eyes\"'\n",
      " \"2.7 m [9'] shark with black-tipped pectoral fins\"]\n"
     ]
    }
   ],
   "source": [
    "print(df_clean['SPECIES '].unique())"
   ]
  },
  {
   "cell_type": "code",
   "execution_count": 613,
   "metadata": {},
   "outputs": [
    {
     "data": {
      "text/plain": [
       "DATE                0\n",
       "YEAR                0\n",
       "TYPE                0\n",
       "COUNTRY             0\n",
       "AREA              217\n",
       "LOCATION          272\n",
       "ACTIVITY          320\n",
       "INJURY             15\n",
       "FATAL (Y/N)         0\n",
       "TIME             1901\n",
       "SPECIES          1602\n",
       "MONTH               0\n",
       "ACTIVITY_TYPE       0\n",
       "SPECIES             0\n",
       "dtype: int64"
      ]
     },
     "execution_count": 613,
     "metadata": {},
     "output_type": "execute_result"
    }
   ],
   "source": [
    "df_clean['SPECIES'] = df_clean['SPECIES'].fillna(\"UNKNOWN\")\n",
    "df_clean.isna().sum()\n",
    "#What am I doing wrong?"
   ]
  }
 ],
 "metadata": {
  "kernelspec": {
   "display_name": "Python 3",
   "language": "python",
   "name": "python3"
  },
  "language_info": {
   "codemirror_mode": {
    "name": "ipython",
    "version": 3
   },
   "file_extension": ".py",
   "mimetype": "text/x-python",
   "name": "python",
   "nbconvert_exporter": "python",
   "pygments_lexer": "ipython3",
   "version": "3.8.6"
  }
 },
 "nbformat": 4,
 "nbformat_minor": 4
}
